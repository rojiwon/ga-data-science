{
 "cells": [
  {
   "cell_type": "markdown",
   "metadata": {},
   "source": [
    "# Project Design Writeup - Predicting Hotel Bookings on Expedia"
   ]
  },
  {
   "cell_type": "markdown",
   "metadata": {},
   "source": [
    "### Background\n",
    "As a hotel management company, it is extremely powerful to understand who the customers are and what they are looking for during their search process. If we can predict customers who are more likely to book (vs. simply check prices and leave), we know who we can target to maximize revenue. In addition, if we know which hotels they will likely book, then we can optimize their search experience by serving them a personalized and preferred set of results."
   ]
  },
  {
   "cell_type": "markdown",
   "metadata": {},
   "source": [
    "### Problem Statement\n",
    "Determine which customers will make a booking using information on search criteria, various hotel attributes, and booking indicator from Expedia's 2013 to 2014 customer log data\n",
    "### Hypothesis\n",
    "From my knowledge of the industry, I hypothesize the following:\n",
    "\n",
    "The shorter the booking window and longer the length of stay, the more likely the booking will be made. Also, a weekday stay by a solo traveller will increase the probability of booking as it may indicate a business traveler. The farther the distance from the origin of search to the destination, the more likely the booking will be finalized as it may indicate long distance travel which typically people tend to plan ahead of time. This may be similarly true for searches with children as people tend to try and minimize uncertainty with family trips involving children. "
   ]
  },
  {
   "cell_type": "markdown",
   "metadata": {},
   "source": [
    "### Potential Methods/Models\n",
    "### Step 1 - Clustering\n",
    "Create segments/cohorts of searchers as I predict there will be patterns of people from a similar region searching for hotels in the same or neighboring regions, or families tending to look for resort destinations (e.g. Disney world)\n",
    "\n",
    "### Step 2 - Logistic Regression or Random Forest (Classification)\n",
    "Then perform a logistic regression on whether each search resulted in a booking or not (booking -1, no booking -0). However, since I plan to include many features, both categorical and continuous, I will also try other models that might perform better such as the Random Forest."
   ]
  },
  {
   "cell_type": "markdown",
   "metadata": {},
   "source": [
    "### Data\n",
    "Expedia has posted a consolidated dataset on Kaggle at the customer search history level with information on what each person searched for (e.g. check-in and check-out dates, number of rooms, numbers of adults vs. children), the booking channel, whether it was a part of a package, destination attributes (e.g. hotel location, market, cluster), and whether or not the search resulted in a booking.\n",
    "\n",
    "Details of the data and a brief data dictionary is provided here:\n",
    "https://www.kaggle.com/c/expedia-hotel-recommendations/data"
   ]
  },
  {
   "cell_type": "markdown",
   "metadata": {},
   "source": [
    "### Outstanding questions, assumptions, risks\n",
    "One key component of the data that is missing is the price point of each of the searches. Usually, a deciding factor of a booking is whether the price was right. Since there is no data provided around the searched rates, we make the assumption that all bookings are purely made on the basis of preference for the particular hotel."
   ]
  },
  {
   "cell_type": "markdown",
   "metadata": {},
   "source": [
    "### Goals & Criteria\n",
    "Success will be defined by the highest achievable accuracy. From what I have seen on Kaggle, I understand the accuracy rate of the original problem of predicting the hotel clusters is quite low (approx 50%). However, since I am posing a slightly different problem of predicting bookings (0 or 1), I expect to be able to reach a higher rate of prediction. "
   ]
  },
  {
   "cell_type": "code",
   "execution_count": null,
   "metadata": {
    "collapsed": true
   },
   "outputs": [],
   "source": []
  }
 ],
 "metadata": {
  "anaconda-cloud": {},
  "kernelspec": {
   "display_name": "Python [conda root]",
   "language": "python",
   "name": "conda-root-py"
  },
  "language_info": {
   "codemirror_mode": {
    "name": "ipython",
    "version": 2
   },
   "file_extension": ".py",
   "mimetype": "text/x-python",
   "name": "python",
   "nbconvert_exporter": "python",
   "pygments_lexer": "ipython2",
   "version": "2.7.12"
  }
 },
 "nbformat": 4,
 "nbformat_minor": 1
}
