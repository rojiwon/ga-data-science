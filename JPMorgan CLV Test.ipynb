{
 "cells": [
  {
   "cell_type": "markdown",
   "metadata": {},
   "source": [
    "# Lifetime Value of JP Morgan Chase Account"
   ]
  },
  {
   "cell_type": "code",
   "execution_count": 65,
   "metadata": {
    "collapsed": false
   },
   "outputs": [],
   "source": [
    "import pandas as pd\n",
    "import numpy as np\n",
    "\n",
    "data = pd.read_csv(\"JPMorgan_Test Data (as of Jan 21, 2017).csv\")"
   ]
  },
  {
   "cell_type": "code",
   "execution_count": 66,
   "metadata": {
    "collapsed": false
   },
   "outputs": [],
   "source": [
    "data=data.drop('Unnamed: 15', axis=1)\n",
    "data=data.drop('Unnamed: 16', axis=1)\n",
    "data=data.drop('Unnamed: 17', axis=1)\n",
    "data=data.drop('Unnamed: 18', axis=1)"
   ]
  },
  {
   "cell_type": "code",
   "execution_count": 67,
   "metadata": {
    "collapsed": false
   },
   "outputs": [
    {
     "data": {
      "text/html": [
       "<div>\n",
       "<table border=\"1\" class=\"dataframe\">\n",
       "  <thead>\n",
       "    <tr style=\"text-align: right;\">\n",
       "      <th></th>\n",
       "      <th>Member Id</th>\n",
       "      <th>Summary Month Key</th>\n",
       "      <th>Membership Status Desc</th>\n",
       "      <th>Corporate Name</th>\n",
       "      <th>Gender</th>\n",
       "      <th>Preferred Facility Accounting Code</th>\n",
       "      <th>Access</th>\n",
       "      <th>Checkin 4WK Segment</th>\n",
       "      <th>Monthly Equivalent</th>\n",
       "      <th>Checkin MTD Count</th>\n",
       "      <th>PL Purchase MTD Amt</th>\n",
       "      <th>PL Purchase In Month</th>\n",
       "      <th>PT Purchase MTD Amt</th>\n",
       "      <th>PT Purchase In Month</th>\n",
       "      <th>Member Tenure Days</th>\n",
       "    </tr>\n",
       "  </thead>\n",
       "  <tbody>\n",
       "    <tr>\n",
       "      <th>0</th>\n",
       "      <td>1000006587</td>\n",
       "      <td>20150531</td>\n",
       "      <td>Active</td>\n",
       "      <td>JPMorgan Chase</td>\n",
       "      <td>F</td>\n",
       "      <td>106</td>\n",
       "      <td>Select</td>\n",
       "      <td>Motivated</td>\n",
       "      <td>128.0</td>\n",
       "      <td>5</td>\n",
       "      <td>0</td>\n",
       "      <td>0</td>\n",
       "      <td>0.0</td>\n",
       "      <td>0</td>\n",
       "      <td>5142</td>\n",
       "    </tr>\n",
       "    <tr>\n",
       "      <th>1</th>\n",
       "      <td>1000006587</td>\n",
       "      <td>20150630</td>\n",
       "      <td>Active</td>\n",
       "      <td>JPMorgan Chase</td>\n",
       "      <td>F</td>\n",
       "      <td>106</td>\n",
       "      <td>Select</td>\n",
       "      <td>Occasional</td>\n",
       "      <td>128.0</td>\n",
       "      <td>1</td>\n",
       "      <td>0</td>\n",
       "      <td>0</td>\n",
       "      <td>0.0</td>\n",
       "      <td>0</td>\n",
       "      <td>5172</td>\n",
       "    </tr>\n",
       "    <tr>\n",
       "      <th>2</th>\n",
       "      <td>1000006587</td>\n",
       "      <td>20150731</td>\n",
       "      <td>Cancelled</td>\n",
       "      <td>JPMorgan Chase</td>\n",
       "      <td>F</td>\n",
       "      <td>106</td>\n",
       "      <td>Select</td>\n",
       "      <td>Occasional</td>\n",
       "      <td>128.0</td>\n",
       "      <td>0</td>\n",
       "      <td>0</td>\n",
       "      <td>0</td>\n",
       "      <td>0.0</td>\n",
       "      <td>0</td>\n",
       "      <td>5203</td>\n",
       "    </tr>\n",
       "    <tr>\n",
       "      <th>3</th>\n",
       "      <td>1000006587</td>\n",
       "      <td>20150430</td>\n",
       "      <td>Active</td>\n",
       "      <td>JPMorgan Chase</td>\n",
       "      <td>F</td>\n",
       "      <td>106</td>\n",
       "      <td>Select</td>\n",
       "      <td>Motivated</td>\n",
       "      <td>128.0</td>\n",
       "      <td>4</td>\n",
       "      <td>0</td>\n",
       "      <td>0</td>\n",
       "      <td>0.0</td>\n",
       "      <td>0</td>\n",
       "      <td>5111</td>\n",
       "    </tr>\n",
       "    <tr>\n",
       "      <th>4</th>\n",
       "      <td>1000006587</td>\n",
       "      <td>20130630</td>\n",
       "      <td>Active</td>\n",
       "      <td>JPMorgan Chase</td>\n",
       "      <td>F</td>\n",
       "      <td>106</td>\n",
       "      <td>Select</td>\n",
       "      <td>Hardcore</td>\n",
       "      <td>120.0</td>\n",
       "      <td>12</td>\n",
       "      <td>0</td>\n",
       "      <td>0</td>\n",
       "      <td>0.0</td>\n",
       "      <td>0</td>\n",
       "      <td>4442</td>\n",
       "    </tr>\n",
       "  </tbody>\n",
       "</table>\n",
       "</div>"
      ],
      "text/plain": [
       "    Member Id  Summary Month Key Membership Status Desc   Corporate Name  \\\n",
       "0  1000006587           20150531                 Active  JPMorgan Chase    \n",
       "1  1000006587           20150630                 Active  JPMorgan Chase    \n",
       "2  1000006587           20150731              Cancelled  JPMorgan Chase    \n",
       "3  1000006587           20150430                 Active  JPMorgan Chase    \n",
       "4  1000006587           20130630                 Active  JPMorgan Chase    \n",
       "\n",
       "  Gender  Preferred Facility Accounting Code  Access Checkin 4WK Segment  \\\n",
       "0      F                                 106  Select           Motivated   \n",
       "1      F                                 106  Select          Occasional   \n",
       "2      F                                 106  Select          Occasional   \n",
       "3      F                                 106  Select           Motivated   \n",
       "4      F                                 106  Select            Hardcore   \n",
       "\n",
       "   Monthly Equivalent  Checkin MTD Count  PL Purchase MTD Amt  \\\n",
       "0               128.0                  5                    0   \n",
       "1               128.0                  1                    0   \n",
       "2               128.0                  0                    0   \n",
       "3               128.0                  4                    0   \n",
       "4               120.0                 12                    0   \n",
       "\n",
       "   PL Purchase In Month  PT Purchase MTD Amt  PT Purchase In Month  \\\n",
       "0                     0                  0.0                     0   \n",
       "1                     0                  0.0                     0   \n",
       "2                     0                  0.0                     0   \n",
       "3                     0                  0.0                     0   \n",
       "4                     0                  0.0                     0   \n",
       "\n",
       "  Member Tenure Days  \n",
       "0               5142  \n",
       "1               5172  \n",
       "2               5203  \n",
       "3               5111  \n",
       "4               4442  "
      ]
     },
     "execution_count": 67,
     "metadata": {},
     "output_type": "execute_result"
    }
   ],
   "source": [
    "data.head(5)"
   ]
  },
  {
   "cell_type": "code",
   "execution_count": 68,
   "metadata": {
    "collapsed": false,
    "scrolled": false
   },
   "outputs": [
    {
     "data": {
      "text/plain": [
       "Member Id                               int64\n",
       "Summary Month Key                       int64\n",
       "Membership Status Desc                 object\n",
       "Corporate Name                         object\n",
       "Gender                                 object\n",
       "Preferred Facility Accounting Code      int64\n",
       "Access                                 object\n",
       "Checkin 4WK Segment                    object\n",
       "Monthly Equivalent                    float64\n",
       "Checkin MTD Count                       int64\n",
       "PL Purchase MTD Amt                     int64\n",
       "PL Purchase In Month                    int64\n",
       "PT Purchase MTD Amt                   float64\n",
       "PT Purchase In Month                    int64\n",
       "Member Tenure Days                     object\n",
       "dtype: object"
      ]
     },
     "execution_count": 68,
     "metadata": {},
     "output_type": "execute_result"
    }
   ],
   "source": [
    "data.dtypes"
   ]
  },
  {
   "cell_type": "code",
   "execution_count": 69,
   "metadata": {
    "collapsed": false
   },
   "outputs": [],
   "source": [
    "data['Summary Month Key']=data['Summary Month Key'].astype(str)"
   ]
  },
  {
   "cell_type": "code",
   "execution_count": 70,
   "metadata": {
    "collapsed": false
   },
   "outputs": [],
   "source": [
    "data['Member Tenure Days']=pd.to_numeric(data['Member Tenure Days'], errors='coerce' )"
   ]
  },
  {
   "cell_type": "code",
   "execution_count": 71,
   "metadata": {
    "collapsed": false
   },
   "outputs": [],
   "source": [
    "data.dropna(axis=0, how='any', inplace=True)"
   ]
  },
  {
   "cell_type": "code",
   "execution_count": 72,
   "metadata": {
    "collapsed": false
   },
   "outputs": [
    {
     "data": {
      "text/html": [
       "<div>\n",
       "<table border=\"1\" class=\"dataframe\">\n",
       "  <thead>\n",
       "    <tr style=\"text-align: right;\">\n",
       "      <th></th>\n",
       "      <th>Member Id</th>\n",
       "      <th>Preferred Facility Accounting Code</th>\n",
       "      <th>Monthly Equivalent</th>\n",
       "      <th>Checkin MTD Count</th>\n",
       "      <th>PL Purchase MTD Amt</th>\n",
       "      <th>PL Purchase In Month</th>\n",
       "      <th>PT Purchase MTD Amt</th>\n",
       "      <th>PT Purchase In Month</th>\n",
       "      <th>Member Tenure Days</th>\n",
       "    </tr>\n",
       "  </thead>\n",
       "  <tbody>\n",
       "    <tr>\n",
       "      <th>count</th>\n",
       "      <td>1.241370e+05</td>\n",
       "      <td>124137.000000</td>\n",
       "      <td>124137.000000</td>\n",
       "      <td>124137.000000</td>\n",
       "      <td>124137.000000</td>\n",
       "      <td>124137.000000</td>\n",
       "      <td>124137.000000</td>\n",
       "      <td>124137.000000</td>\n",
       "      <td>1.241370e+05</td>\n",
       "    </tr>\n",
       "    <tr>\n",
       "      <th>mean</th>\n",
       "      <td>1.001864e+09</td>\n",
       "      <td>179.436792</td>\n",
       "      <td>153.694016</td>\n",
       "      <td>6.668890</td>\n",
       "      <td>2.862466</td>\n",
       "      <td>0.003899</td>\n",
       "      <td>42.343535</td>\n",
       "      <td>0.032649</td>\n",
       "      <td>1.855556e+02</td>\n",
       "    </tr>\n",
       "    <tr>\n",
       "      <th>std</th>\n",
       "      <td>1.653374e+06</td>\n",
       "      <td>167.959759</td>\n",
       "      <td>29.409256</td>\n",
       "      <td>6.501778</td>\n",
       "      <td>66.229794</td>\n",
       "      <td>0.062320</td>\n",
       "      <td>290.463303</td>\n",
       "      <td>0.177718</td>\n",
       "      <td>4.828960e+04</td>\n",
       "    </tr>\n",
       "    <tr>\n",
       "      <th>min</th>\n",
       "      <td>1.000007e+09</td>\n",
       "      <td>102.000000</td>\n",
       "      <td>92.000000</td>\n",
       "      <td>0.000000</td>\n",
       "      <td>-612.000000</td>\n",
       "      <td>0.000000</td>\n",
       "      <td>-2640.000000</td>\n",
       "      <td>0.000000</td>\n",
       "      <td>-2.917010e+06</td>\n",
       "    </tr>\n",
       "    <tr>\n",
       "      <th>25%</th>\n",
       "      <td>1.001010e+09</td>\n",
       "      <td>109.000000</td>\n",
       "      <td>128.000000</td>\n",
       "      <td>1.000000</td>\n",
       "      <td>0.000000</td>\n",
       "      <td>0.000000</td>\n",
       "      <td>0.000000</td>\n",
       "      <td>0.000000</td>\n",
       "      <td>2.260000e+02</td>\n",
       "    </tr>\n",
       "    <tr>\n",
       "      <th>50%</th>\n",
       "      <td>1.001824e+09</td>\n",
       "      <td>114.000000</td>\n",
       "      <td>160.000000</td>\n",
       "      <td>5.000000</td>\n",
       "      <td>0.000000</td>\n",
       "      <td>0.000000</td>\n",
       "      <td>0.000000</td>\n",
       "      <td>0.000000</td>\n",
       "      <td>5.930000e+02</td>\n",
       "    </tr>\n",
       "    <tr>\n",
       "      <th>75%</th>\n",
       "      <td>1.002170e+09</td>\n",
       "      <td>130.000000</td>\n",
       "      <td>175.000000</td>\n",
       "      <td>10.000000</td>\n",
       "      <td>0.000000</td>\n",
       "      <td>0.000000</td>\n",
       "      <td>0.000000</td>\n",
       "      <td>0.000000</td>\n",
       "      <td>1.312000e+03</td>\n",
       "    </tr>\n",
       "    <tr>\n",
       "      <th>max</th>\n",
       "      <td>1.010431e+09</td>\n",
       "      <td>733.000000</td>\n",
       "      <td>417.000000</td>\n",
       "      <td>98.000000</td>\n",
       "      <td>8640.000000</td>\n",
       "      <td>1.000000</td>\n",
       "      <td>9888.000000</td>\n",
       "      <td>1.000000</td>\n",
       "      <td>9.223000e+03</td>\n",
       "    </tr>\n",
       "  </tbody>\n",
       "</table>\n",
       "</div>"
      ],
      "text/plain": [
       "          Member Id  Preferred Facility Accounting Code  Monthly Equivalent  \\\n",
       "count  1.241370e+05                       124137.000000       124137.000000   \n",
       "mean   1.001864e+09                          179.436792          153.694016   \n",
       "std    1.653374e+06                          167.959759           29.409256   \n",
       "min    1.000007e+09                          102.000000           92.000000   \n",
       "25%    1.001010e+09                          109.000000          128.000000   \n",
       "50%    1.001824e+09                          114.000000          160.000000   \n",
       "75%    1.002170e+09                          130.000000          175.000000   \n",
       "max    1.010431e+09                          733.000000          417.000000   \n",
       "\n",
       "       Checkin MTD Count  PL Purchase MTD Amt  PL Purchase In Month  \\\n",
       "count      124137.000000        124137.000000         124137.000000   \n",
       "mean            6.668890             2.862466              0.003899   \n",
       "std             6.501778            66.229794              0.062320   \n",
       "min             0.000000          -612.000000              0.000000   \n",
       "25%             1.000000             0.000000              0.000000   \n",
       "50%             5.000000             0.000000              0.000000   \n",
       "75%            10.000000             0.000000              0.000000   \n",
       "max            98.000000          8640.000000              1.000000   \n",
       "\n",
       "       PT Purchase MTD Amt  PT Purchase In Month  Member Tenure Days  \n",
       "count        124137.000000         124137.000000        1.241370e+05  \n",
       "mean             42.343535              0.032649        1.855556e+02  \n",
       "std             290.463303              0.177718        4.828960e+04  \n",
       "min           -2640.000000              0.000000       -2.917010e+06  \n",
       "25%               0.000000              0.000000        2.260000e+02  \n",
       "50%               0.000000              0.000000        5.930000e+02  \n",
       "75%               0.000000              0.000000        1.312000e+03  \n",
       "max            9888.000000              1.000000        9.223000e+03  "
      ]
     },
     "execution_count": 72,
     "metadata": {},
     "output_type": "execute_result"
    }
   ],
   "source": [
    "data.describe()"
   ]
  },
  {
   "cell_type": "code",
   "execution_count": 73,
   "metadata": {
    "collapsed": true
   },
   "outputs": [],
   "source": [
    "data['Member Id']=data['Member Id'].astype(str)\n",
    "data['Preferred Facility Accounting Code']=data['Preferred Facility Accounting Code'].astype(str)"
   ]
  },
  {
   "cell_type": "code",
   "execution_count": 74,
   "metadata": {
    "collapsed": false
   },
   "outputs": [],
   "source": [
    "data['Year']=data['Summary Month Key'].str[:4]"
   ]
  },
  {
   "cell_type": "code",
   "execution_count": 232,
   "metadata": {
    "collapsed": false
   },
   "outputs": [],
   "source": [
    "data=data[data['Member Tenure Days']>=0]"
   ]
  },
  {
   "cell_type": "code",
   "execution_count": 234,
   "metadata": {
    "collapsed": true
   },
   "outputs": [],
   "source": [
    "data=data[data['PT Purchase MTD Amt']>=0]"
   ]
  },
  {
   "cell_type": "code",
   "execution_count": 236,
   "metadata": {
    "collapsed": true
   },
   "outputs": [],
   "source": [
    "data=data[data['PL Purchase MTD Amt']>=0]"
   ]
  },
  {
   "cell_type": "code",
   "execution_count": 237,
   "metadata": {
    "collapsed": false
   },
   "outputs": [
    {
     "data": {
      "text/html": [
       "<div>\n",
       "<table border=\"1\" class=\"dataframe\">\n",
       "  <thead>\n",
       "    <tr style=\"text-align: right;\">\n",
       "      <th></th>\n",
       "      <th>Monthly Equivalent</th>\n",
       "      <th>Checkin MTD Count</th>\n",
       "      <th>PL Purchase MTD Amt</th>\n",
       "      <th>PL Purchase In Month</th>\n",
       "      <th>PT Purchase MTD Amt</th>\n",
       "      <th>PT Purchase In Month</th>\n",
       "      <th>Member Tenure Days</th>\n",
       "    </tr>\n",
       "  </thead>\n",
       "  <tbody>\n",
       "    <tr>\n",
       "      <th>count</th>\n",
       "      <td>124064.000000</td>\n",
       "      <td>124064.000000</td>\n",
       "      <td>124064.000000</td>\n",
       "      <td>124064.000000</td>\n",
       "      <td>124064.000000</td>\n",
       "      <td>124064.000000</td>\n",
       "      <td>124064.000000</td>\n",
       "    </tr>\n",
       "    <tr>\n",
       "      <th>mean</th>\n",
       "      <td>153.692764</td>\n",
       "      <td>6.669953</td>\n",
       "      <td>2.872928</td>\n",
       "      <td>0.003869</td>\n",
       "      <td>42.461748</td>\n",
       "      <td>0.032572</td>\n",
       "      <td>984.637816</td>\n",
       "    </tr>\n",
       "    <tr>\n",
       "      <th>std</th>\n",
       "      <td>29.410445</td>\n",
       "      <td>6.502401</td>\n",
       "      <td>66.122396</td>\n",
       "      <td>0.062081</td>\n",
       "      <td>290.204906</td>\n",
       "      <td>0.177514</td>\n",
       "      <td>1100.557413</td>\n",
       "    </tr>\n",
       "    <tr>\n",
       "      <th>min</th>\n",
       "      <td>92.000000</td>\n",
       "      <td>0.000000</td>\n",
       "      <td>0.000000</td>\n",
       "      <td>0.000000</td>\n",
       "      <td>0.000000</td>\n",
       "      <td>0.000000</td>\n",
       "      <td>0.000000</td>\n",
       "    </tr>\n",
       "    <tr>\n",
       "      <th>25%</th>\n",
       "      <td>128.000000</td>\n",
       "      <td>1.000000</td>\n",
       "      <td>0.000000</td>\n",
       "      <td>0.000000</td>\n",
       "      <td>0.000000</td>\n",
       "      <td>0.000000</td>\n",
       "      <td>227.000000</td>\n",
       "    </tr>\n",
       "    <tr>\n",
       "      <th>50%</th>\n",
       "      <td>160.000000</td>\n",
       "      <td>5.000000</td>\n",
       "      <td>0.000000</td>\n",
       "      <td>0.000000</td>\n",
       "      <td>0.000000</td>\n",
       "      <td>0.000000</td>\n",
       "      <td>593.000000</td>\n",
       "    </tr>\n",
       "    <tr>\n",
       "      <th>75%</th>\n",
       "      <td>175.000000</td>\n",
       "      <td>10.000000</td>\n",
       "      <td>0.000000</td>\n",
       "      <td>0.000000</td>\n",
       "      <td>0.000000</td>\n",
       "      <td>0.000000</td>\n",
       "      <td>1313.000000</td>\n",
       "    </tr>\n",
       "    <tr>\n",
       "      <th>max</th>\n",
       "      <td>417.000000</td>\n",
       "      <td>98.000000</td>\n",
       "      <td>8640.000000</td>\n",
       "      <td>1.000000</td>\n",
       "      <td>9888.000000</td>\n",
       "      <td>1.000000</td>\n",
       "      <td>9223.000000</td>\n",
       "    </tr>\n",
       "  </tbody>\n",
       "</table>\n",
       "</div>"
      ],
      "text/plain": [
       "       Monthly Equivalent  Checkin MTD Count  PL Purchase MTD Amt  \\\n",
       "count       124064.000000      124064.000000        124064.000000   \n",
       "mean           153.692764           6.669953             2.872928   \n",
       "std             29.410445           6.502401            66.122396   \n",
       "min             92.000000           0.000000             0.000000   \n",
       "25%            128.000000           1.000000             0.000000   \n",
       "50%            160.000000           5.000000             0.000000   \n",
       "75%            175.000000          10.000000             0.000000   \n",
       "max            417.000000          98.000000          8640.000000   \n",
       "\n",
       "       PL Purchase In Month  PT Purchase MTD Amt  PT Purchase In Month  \\\n",
       "count         124064.000000        124064.000000         124064.000000   \n",
       "mean               0.003869            42.461748              0.032572   \n",
       "std                0.062081           290.204906              0.177514   \n",
       "min                0.000000             0.000000              0.000000   \n",
       "25%                0.000000             0.000000              0.000000   \n",
       "50%                0.000000             0.000000              0.000000   \n",
       "75%                0.000000             0.000000              0.000000   \n",
       "max                1.000000          9888.000000              1.000000   \n",
       "\n",
       "       Member Tenure Days  \n",
       "count       124064.000000  \n",
       "mean           984.637816  \n",
       "std           1100.557413  \n",
       "min              0.000000  \n",
       "25%            227.000000  \n",
       "50%            593.000000  \n",
       "75%           1313.000000  \n",
       "max           9223.000000  "
      ]
     },
     "execution_count": 237,
     "metadata": {},
     "output_type": "execute_result"
    }
   ],
   "source": [
    "data.describe()"
   ]
  },
  {
   "cell_type": "code",
   "execution_count": 238,
   "metadata": {
    "collapsed": false,
    "scrolled": false
   },
   "outputs": [
    {
     "data": {
      "text/html": [
       "<div>\n",
       "<table border=\"1\" class=\"dataframe\">\n",
       "  <thead>\n",
       "    <tr style=\"text-align: right;\">\n",
       "      <th></th>\n",
       "      <th>Member Id</th>\n",
       "      <th>Summary Month Key</th>\n",
       "      <th>Membership Status Desc</th>\n",
       "      <th>Corporate Name</th>\n",
       "      <th>Gender</th>\n",
       "      <th>Preferred Facility Accounting Code</th>\n",
       "      <th>Access</th>\n",
       "      <th>Checkin 4WK Segment</th>\n",
       "      <th>Monthly Equivalent</th>\n",
       "      <th>Checkin MTD Count</th>\n",
       "      <th>PL Purchase MTD Amt</th>\n",
       "      <th>PL Purchase In Month</th>\n",
       "      <th>PT Purchase MTD Amt</th>\n",
       "      <th>PT Purchase In Month</th>\n",
       "      <th>Member Tenure Days</th>\n",
       "      <th>Year</th>\n",
       "    </tr>\n",
       "  </thead>\n",
       "  <tbody>\n",
       "    <tr>\n",
       "      <th>0</th>\n",
       "      <td>1000006587</td>\n",
       "      <td>20150531</td>\n",
       "      <td>Active</td>\n",
       "      <td>JPMorgan Chase</td>\n",
       "      <td>F</td>\n",
       "      <td>106</td>\n",
       "      <td>Select</td>\n",
       "      <td>Motivated</td>\n",
       "      <td>128.0</td>\n",
       "      <td>5</td>\n",
       "      <td>0</td>\n",
       "      <td>0</td>\n",
       "      <td>0.0</td>\n",
       "      <td>0</td>\n",
       "      <td>5142.0</td>\n",
       "      <td>2015</td>\n",
       "    </tr>\n",
       "    <tr>\n",
       "      <th>1</th>\n",
       "      <td>1000006587</td>\n",
       "      <td>20150630</td>\n",
       "      <td>Active</td>\n",
       "      <td>JPMorgan Chase</td>\n",
       "      <td>F</td>\n",
       "      <td>106</td>\n",
       "      <td>Select</td>\n",
       "      <td>Occasional</td>\n",
       "      <td>128.0</td>\n",
       "      <td>1</td>\n",
       "      <td>0</td>\n",
       "      <td>0</td>\n",
       "      <td>0.0</td>\n",
       "      <td>0</td>\n",
       "      <td>5172.0</td>\n",
       "      <td>2015</td>\n",
       "    </tr>\n",
       "    <tr>\n",
       "      <th>2</th>\n",
       "      <td>1000006587</td>\n",
       "      <td>20150731</td>\n",
       "      <td>Cancelled</td>\n",
       "      <td>JPMorgan Chase</td>\n",
       "      <td>F</td>\n",
       "      <td>106</td>\n",
       "      <td>Select</td>\n",
       "      <td>Occasional</td>\n",
       "      <td>128.0</td>\n",
       "      <td>0</td>\n",
       "      <td>0</td>\n",
       "      <td>0</td>\n",
       "      <td>0.0</td>\n",
       "      <td>0</td>\n",
       "      <td>5203.0</td>\n",
       "      <td>2015</td>\n",
       "    </tr>\n",
       "    <tr>\n",
       "      <th>3</th>\n",
       "      <td>1000006587</td>\n",
       "      <td>20150430</td>\n",
       "      <td>Active</td>\n",
       "      <td>JPMorgan Chase</td>\n",
       "      <td>F</td>\n",
       "      <td>106</td>\n",
       "      <td>Select</td>\n",
       "      <td>Motivated</td>\n",
       "      <td>128.0</td>\n",
       "      <td>4</td>\n",
       "      <td>0</td>\n",
       "      <td>0</td>\n",
       "      <td>0.0</td>\n",
       "      <td>0</td>\n",
       "      <td>5111.0</td>\n",
       "      <td>2015</td>\n",
       "    </tr>\n",
       "    <tr>\n",
       "      <th>4</th>\n",
       "      <td>1000006587</td>\n",
       "      <td>20130630</td>\n",
       "      <td>Active</td>\n",
       "      <td>JPMorgan Chase</td>\n",
       "      <td>F</td>\n",
       "      <td>106</td>\n",
       "      <td>Select</td>\n",
       "      <td>Hardcore</td>\n",
       "      <td>120.0</td>\n",
       "      <td>12</td>\n",
       "      <td>0</td>\n",
       "      <td>0</td>\n",
       "      <td>0.0</td>\n",
       "      <td>0</td>\n",
       "      <td>4442.0</td>\n",
       "      <td>2013</td>\n",
       "    </tr>\n",
       "  </tbody>\n",
       "</table>\n",
       "</div>"
      ],
      "text/plain": [
       "    Member Id Summary Month Key Membership Status Desc   Corporate Name  \\\n",
       "0  1000006587          20150531                 Active  JPMorgan Chase    \n",
       "1  1000006587          20150630                 Active  JPMorgan Chase    \n",
       "2  1000006587          20150731              Cancelled  JPMorgan Chase    \n",
       "3  1000006587          20150430                 Active  JPMorgan Chase    \n",
       "4  1000006587          20130630                 Active  JPMorgan Chase    \n",
       "\n",
       "  Gender Preferred Facility Accounting Code  Access Checkin 4WK Segment  \\\n",
       "0      F                                106  Select           Motivated   \n",
       "1      F                                106  Select          Occasional   \n",
       "2      F                                106  Select          Occasional   \n",
       "3      F                                106  Select           Motivated   \n",
       "4      F                                106  Select            Hardcore   \n",
       "\n",
       "   Monthly Equivalent  Checkin MTD Count  PL Purchase MTD Amt  \\\n",
       "0               128.0                  5                    0   \n",
       "1               128.0                  1                    0   \n",
       "2               128.0                  0                    0   \n",
       "3               128.0                  4                    0   \n",
       "4               120.0                 12                    0   \n",
       "\n",
       "   PL Purchase In Month  PT Purchase MTD Amt  PT Purchase In Month  \\\n",
       "0                     0                  0.0                     0   \n",
       "1                     0                  0.0                     0   \n",
       "2                     0                  0.0                     0   \n",
       "3                     0                  0.0                     0   \n",
       "4                     0                  0.0                     0   \n",
       "\n",
       "   Member Tenure Days  Year  \n",
       "0              5142.0  2015  \n",
       "1              5172.0  2015  \n",
       "2              5203.0  2015  \n",
       "3              5111.0  2015  \n",
       "4              4442.0  2013  "
      ]
     },
     "execution_count": 238,
     "metadata": {},
     "output_type": "execute_result"
    }
   ],
   "source": [
    "data.head()"
   ]
  },
  {
   "cell_type": "code",
   "execution_count": 239,
   "metadata": {
    "collapsed": false
   },
   "outputs": [
    {
     "data": {
      "text/plain": [
       "0    120023\n",
       "1      4041\n",
       "Name: PT Purchase In Month, dtype: int64"
      ]
     },
     "execution_count": 239,
     "metadata": {},
     "output_type": "execute_result"
    }
   ],
   "source": [
    "data['PT Purchase In Month'].value_counts()"
   ]
  },
  {
   "cell_type": "code",
   "execution_count": 240,
   "metadata": {
    "collapsed": false
   },
   "outputs": [
    {
     "data": {
      "text/plain": [
       "4025"
      ]
     },
     "execution_count": 240,
     "metadata": {},
     "output_type": "execute_result"
    }
   ],
   "source": [
    "sum(data['PT Purchase MTD Amt']>0)"
   ]
  },
  {
   "cell_type": "markdown",
   "metadata": {},
   "source": [
    "### *Note: data( ) is summarized at \"by Member, by month\""
   ]
  },
  {
   "cell_type": "code",
   "execution_count": 241,
   "metadata": {
    "collapsed": false,
    "scrolled": true
   },
   "outputs": [
    {
     "data": {
      "image/png": "[encoded data removed]",
      "text/plain": [
       "<matplotlib.figure.Figure at 0x13f18ba50>"
      ]
     },
     "metadata": {},
     "output_type": "display_data"
    }
   ],
   "source": [
    "import matplotlib.pyplot as plt\n",
    "%matplotlib inline\n",
    "\n",
    "fig=plt.figure()\n",
    "\n",
    "ax1=fig.add_subplot(221)\n",
    "#plt.figure(1, figsize=(4,3));\n",
    "ax1.hist(data[data['Year']=='2013']['Member Tenure Days'], bins=100, range=(0,3000), alpha=0.8, color='b', label=\"2013\")\n",
    "plt.xlabel('Tenure (Days)')\n",
    "plt.ylabel('Count')\n",
    "plt.title('2013')\n",
    "\n",
    "ax2=fig.add_subplot(222)\n",
    "#plt.figure(2, figsize=(4,3));\n",
    "ax2.hist(data[data['Year']=='2014']['Member Tenure Days'], bins=100, range=(0,3000), alpha=0.4, color='r', label=\"2014\")\n",
    "plt.xlabel('Tenure (Days)')\n",
    "plt.ylabel('Count')\n",
    "plt.title('2014')\n",
    "\n",
    "ax3=fig.add_subplot(223)\n",
    "#plt.figure(3, figsize=(4,3));\n",
    "ax3.hist(data[data['Year']=='2015']['Member Tenure Days'], bins=100, range=(0,3000), alpha=0.2, color='g', label=\"2015\")\n",
    "plt.xlabel('Tenure (Days)')\n",
    "plt.ylabel('Count')\n",
    "plt.title('2015')\n",
    "\n",
    "ax4=fig.add_subplot(224)\n",
    "#plt.figure(4, figsize=(4,3));\n",
    "ax4.hist(data[data['Year']=='2016']['Member Tenure Days'], bins=100, range=(0,3000), alpha=0.2, color='y', label=\"2016\")\n",
    "plt.xlabel('Tenure (Days)')\n",
    "plt.ylabel('Count')\n",
    "plt.title('2016')\n",
    "\n",
    "plt.tight_layout()\n",
    "fig=plt.gcf()\n",
    "#plt.legend()\n",
    "#plt.show()"
   ]
  },
  {
   "cell_type": "code",
   "execution_count": 242,
   "metadata": {
    "collapsed": false
   },
   "outputs": [
    {
     "data": {
      "text/plain": [
       "<matplotlib.text.Text at 0x13f4ab950>"
      ]
     },
     "execution_count": 242,
     "metadata": {},
     "output_type": "execute_result"
    },
    {
     "data": {
      "image/png": "[encoded data removed]",
      "text/plain": [
       "<matplotlib.figure.Figure at 0x13eedc6d0>"
      ]
     },
     "metadata": {},
     "output_type": "display_data"
    }
   ],
   "source": [
    "plt.hist(data['Checkin MTD Count'], bins=25, range=(0,200))\n",
    "plt.xlabel('Avg Monthly Check-ins')\n",
    "plt.ylabel('Count')\n",
    "plt.title('Histogram of Check-in Counts')"
   ]
  },
  {
   "cell_type": "markdown",
   "metadata": {},
   "source": [
    "### Focus on Members who check-in everyday (or more)"
   ]
  },
  {
   "cell_type": "code",
   "execution_count": 243,
   "metadata": {
    "collapsed": false
   },
   "outputs": [
    {
     "data": {
      "text/plain": [
       "<matplotlib.text.Text at 0x141fb3190>"
      ]
     },
     "execution_count": 243,
     "metadata": {},
     "output_type": "execute_result"
    },
    {
     "data": {
      "image/png": "[encoded data removed]",
      "text/plain": [
       "<matplotlib.figure.Figure at 0x1414832d0>"
      ]
     },
     "metadata": {},
     "output_type": "display_data"
    }
   ],
   "source": [
    "plt.hist(data[data['Checkin MTD Count']>30]['Checkin MTD Count'], bins=25, range=(0,200))\n",
    "plt.xlabel('Avg Monthly Check-ins')\n",
    "plt.ylabel('Count')\n",
    "plt.title('Histogram of Check-in Counts')"
   ]
  },
  {
   "cell_type": "code",
   "execution_count": 244,
   "metadata": {
    "collapsed": false
   },
   "outputs": [
    {
     "data": {
      "text/plain": [
       "<matplotlib.text.Text at 0x142187d50>"
      ]
     },
     "execution_count": 244,
     "metadata": {},
     "output_type": "execute_result"
    },
    {
     "data": {
      "image/png": "[encoded data removed]",
      "text/plain": [
       "<matplotlib.figure.Figure at 0x13eedcf10>"
      ]
     },
     "metadata": {},
     "output_type": "display_data"
    }
   ],
   "source": [
    "plt.hist(data['PT Purchase MTD Amt'], bins=15, range=(0,3000), color='r')\n",
    "plt.xlabel('Avg Monthly PT Purchase ($)')\n",
    "plt.ylabel('Count')\n",
    "plt.title('Histogram of PT Purchase')"
   ]
  },
  {
   "cell_type": "markdown",
   "metadata": {},
   "source": [
    "### Focus on PT Purchase Members"
   ]
  },
  {
   "cell_type": "code",
   "execution_count": 245,
   "metadata": {
    "collapsed": false
   },
   "outputs": [
    {
     "data": {
      "text/plain": [
       "<matplotlib.text.Text at 0x14249eb90>"
      ]
     },
     "execution_count": 245,
     "metadata": {},
     "output_type": "execute_result"
    },
    {
     "data": {
      "image/png": "[encoded data removed]",
      "text/plain": [
       "<matplotlib.figure.Figure at 0x140efded0>"
      ]
     },
     "metadata": {},
     "output_type": "display_data"
    }
   ],
   "source": [
    "plt.hist(data[data['PT Purchase MTD Amt']>10]['PT Purchase MTD Amt'], bins=50, range=(0,5000), color='r')\n",
    "plt.xlabel('Avg Monthly PT Purchase ($)')\n",
    "plt.ylabel('Count')\n",
    "plt.title('Histogram of PT Purchase')"
   ]
  },
  {
   "cell_type": "code",
   "execution_count": 246,
   "metadata": {
    "collapsed": false
   },
   "outputs": [
    {
     "data": {
      "text/plain": [
       "<matplotlib.text.Text at 0x142739e90>"
      ]
     },
     "execution_count": 246,
     "metadata": {},
     "output_type": "execute_result"
    },
    {
     "data": {
      "image/png": "[encoded data removed]",
      "text/plain": [
       "<matplotlib.figure.Figure at 0x14270eed0>"
      ]
     },
     "metadata": {},
     "output_type": "display_data"
    }
   ],
   "source": [
    "plt.hist(data['PL Purchase MTD Amt'], bins=10, range=(0,1000), color='g')\n",
    "plt.xlabel('Avg Monthly Pilates Purchase ($)')\n",
    "plt.ylabel('Count')\n",
    "plt.title('Histogram of Pilates Purchase')"
   ]
  },
  {
   "cell_type": "markdown",
   "metadata": {},
   "source": [
    "### Focus on Pilate Purchase Members"
   ]
  },
  {
   "cell_type": "code",
   "execution_count": 247,
   "metadata": {
    "collapsed": false
   },
   "outputs": [
    {
     "data": {
      "text/plain": [
       "<matplotlib.text.Text at 0x142a2db10>"
      ]
     },
     "execution_count": 247,
     "metadata": {},
     "output_type": "execute_result"
    },
    {
     "data": {
      "image/png": "[encoded data removed]",
      "text/plain": [
       "<matplotlib.figure.Figure at 0x142328ed0>"
      ]
     },
     "metadata": {},
     "output_type": "display_data"
    }
   ],
   "source": [
    "plt.hist(data[data['PL Purchase MTD Amt']>0]['PL Purchase MTD Amt'], bins=50, range=(0,1000), color='g')\n",
    "plt.xlabel('Avg Monthly Pilates Purchase ($)')\n",
    "plt.ylabel('Count')\n",
    "plt.title('Histogram of Pilates Purchase')"
   ]
  },
  {
   "cell_type": "markdown",
   "metadata": {},
   "source": [
    "### Add Current Member Indicator"
   ]
  },
  {
   "cell_type": "code",
   "execution_count": 293,
   "metadata": {
    "collapsed": true
   },
   "outputs": [],
   "source": [
    "def current_mbr (row):\n",
    "   if row['Summary Month Key'] == '20161231' :\n",
    "      return '1'\n",
    "   return '0'"
   ]
  },
  {
   "cell_type": "code",
   "execution_count": 298,
   "metadata": {
    "collapsed": false
   },
   "outputs": [],
   "source": [
    "data.apply (lambda row: current_mbr (row), axis=1)\n",
    "data['current_mbr'] = data.apply (lambda row: current_mbr (row),axis=1)"
   ]
  },
  {
   "cell_type": "code",
   "execution_count": 299,
   "metadata": {
    "collapsed": false
   },
   "outputs": [
    {
     "data": {
      "text/html": [
       "<div>\n",
       "<table border=\"1\" class=\"dataframe\">\n",
       "  <thead>\n",
       "    <tr style=\"text-align: right;\">\n",
       "      <th></th>\n",
       "      <th>Member Id</th>\n",
       "      <th>Summary Month Key</th>\n",
       "      <th>Membership Status Desc</th>\n",
       "      <th>Corporate Name</th>\n",
       "      <th>Gender</th>\n",
       "      <th>Preferred Facility Accounting Code</th>\n",
       "      <th>Access</th>\n",
       "      <th>Checkin 4WK Segment</th>\n",
       "      <th>Monthly Equivalent</th>\n",
       "      <th>Checkin MTD Count</th>\n",
       "      <th>PL Purchase MTD Amt</th>\n",
       "      <th>PL Purchase In Month</th>\n",
       "      <th>PT Purchase MTD Amt</th>\n",
       "      <th>PT Purchase In Month</th>\n",
       "      <th>Member Tenure Days</th>\n",
       "      <th>Year</th>\n",
       "      <th>currnt_mbr</th>\n",
       "      <th>current_mbr</th>\n",
       "    </tr>\n",
       "  </thead>\n",
       "  <tbody>\n",
       "    <tr>\n",
       "      <th>0</th>\n",
       "      <td>1000006587</td>\n",
       "      <td>20150531</td>\n",
       "      <td>Active</td>\n",
       "      <td>JPMorgan Chase</td>\n",
       "      <td>F</td>\n",
       "      <td>106</td>\n",
       "      <td>Select</td>\n",
       "      <td>Motivated</td>\n",
       "      <td>128.0</td>\n",
       "      <td>5</td>\n",
       "      <td>0</td>\n",
       "      <td>0</td>\n",
       "      <td>0.0</td>\n",
       "      <td>0</td>\n",
       "      <td>5142.0</td>\n",
       "      <td>2015</td>\n",
       "      <td>False</td>\n",
       "      <td>0</td>\n",
       "    </tr>\n",
       "    <tr>\n",
       "      <th>1</th>\n",
       "      <td>1000006587</td>\n",
       "      <td>20150630</td>\n",
       "      <td>Active</td>\n",
       "      <td>JPMorgan Chase</td>\n",
       "      <td>F</td>\n",
       "      <td>106</td>\n",
       "      <td>Select</td>\n",
       "      <td>Occasional</td>\n",
       "      <td>128.0</td>\n",
       "      <td>1</td>\n",
       "      <td>0</td>\n",
       "      <td>0</td>\n",
       "      <td>0.0</td>\n",
       "      <td>0</td>\n",
       "      <td>5172.0</td>\n",
       "      <td>2015</td>\n",
       "      <td>False</td>\n",
       "      <td>0</td>\n",
       "    </tr>\n",
       "    <tr>\n",
       "      <th>2</th>\n",
       "      <td>1000006587</td>\n",
       "      <td>20150731</td>\n",
       "      <td>Cancelled</td>\n",
       "      <td>JPMorgan Chase</td>\n",
       "      <td>F</td>\n",
       "      <td>106</td>\n",
       "      <td>Select</td>\n",
       "      <td>Occasional</td>\n",
       "      <td>128.0</td>\n",
       "      <td>0</td>\n",
       "      <td>0</td>\n",
       "      <td>0</td>\n",
       "      <td>0.0</td>\n",
       "      <td>0</td>\n",
       "      <td>5203.0</td>\n",
       "      <td>2015</td>\n",
       "      <td>False</td>\n",
       "      <td>0</td>\n",
       "    </tr>\n",
       "    <tr>\n",
       "      <th>3</th>\n",
       "      <td>1000006587</td>\n",
       "      <td>20150430</td>\n",
       "      <td>Active</td>\n",
       "      <td>JPMorgan Chase</td>\n",
       "      <td>F</td>\n",
       "      <td>106</td>\n",
       "      <td>Select</td>\n",
       "      <td>Motivated</td>\n",
       "      <td>128.0</td>\n",
       "      <td>4</td>\n",
       "      <td>0</td>\n",
       "      <td>0</td>\n",
       "      <td>0.0</td>\n",
       "      <td>0</td>\n",
       "      <td>5111.0</td>\n",
       "      <td>2015</td>\n",
       "      <td>False</td>\n",
       "      <td>0</td>\n",
       "    </tr>\n",
       "    <tr>\n",
       "      <th>4</th>\n",
       "      <td>1000006587</td>\n",
       "      <td>20130630</td>\n",
       "      <td>Active</td>\n",
       "      <td>JPMorgan Chase</td>\n",
       "      <td>F</td>\n",
       "      <td>106</td>\n",
       "      <td>Select</td>\n",
       "      <td>Hardcore</td>\n",
       "      <td>120.0</td>\n",
       "      <td>12</td>\n",
       "      <td>0</td>\n",
       "      <td>0</td>\n",
       "      <td>0.0</td>\n",
       "      <td>0</td>\n",
       "      <td>4442.0</td>\n",
       "      <td>2013</td>\n",
       "      <td>False</td>\n",
       "      <td>0</td>\n",
       "    </tr>\n",
       "  </tbody>\n",
       "</table>\n",
       "</div>"
      ],
      "text/plain": [
       "    Member Id Summary Month Key Membership Status Desc   Corporate Name  \\\n",
       "0  1000006587          20150531                 Active  JPMorgan Chase    \n",
       "1  1000006587          20150630                 Active  JPMorgan Chase    \n",
       "2  1000006587          20150731              Cancelled  JPMorgan Chase    \n",
       "3  1000006587          20150430                 Active  JPMorgan Chase    \n",
       "4  1000006587          20130630                 Active  JPMorgan Chase    \n",
       "\n",
       "  Gender Preferred Facility Accounting Code  Access Checkin 4WK Segment  \\\n",
       "0      F                                106  Select           Motivated   \n",
       "1      F                                106  Select          Occasional   \n",
       "2      F                                106  Select          Occasional   \n",
       "3      F                                106  Select           Motivated   \n",
       "4      F                                106  Select            Hardcore   \n",
       "\n",
       "   Monthly Equivalent  Checkin MTD Count  PL Purchase MTD Amt  \\\n",
       "0               128.0                  5                    0   \n",
       "1               128.0                  1                    0   \n",
       "2               128.0                  0                    0   \n",
       "3               128.0                  4                    0   \n",
       "4               120.0                 12                    0   \n",
       "\n",
       "   PL Purchase In Month  PT Purchase MTD Amt  PT Purchase In Month  \\\n",
       "0                     0                  0.0                     0   \n",
       "1                     0                  0.0                     0   \n",
       "2                     0                  0.0                     0   \n",
       "3                     0                  0.0                     0   \n",
       "4                     0                  0.0                     0   \n",
       "\n",
       "   Member Tenure Days  Year currnt_mbr current_mbr  \n",
       "0              5142.0  2015      False           0  \n",
       "1              5172.0  2015      False           0  \n",
       "2              5203.0  2015      False           0  \n",
       "3              5111.0  2015      False           0  \n",
       "4              4442.0  2013      False           0  "
      ]
     },
     "execution_count": 299,
     "metadata": {},
     "output_type": "execute_result"
    }
   ],
   "source": [
    "data.head()"
   ]
  },
  {
   "cell_type": "code",
   "execution_count": 301,
   "metadata": {
    "collapsed": false
   },
   "outputs": [
    {
     "data": {
      "text/plain": [
       "0    121247\n",
       "1      2817\n",
       "Name: current_mbr, dtype: int64"
      ]
     },
     "execution_count": 301,
     "metadata": {},
     "output_type": "execute_result"
    }
   ],
   "source": [
    "data['current_mbr'].value_counts()"
   ]
  },
  {
   "cell_type": "markdown",
   "metadata": {},
   "source": [
    "## Create the LRFM Table"
   ]
  },
  {
   "cell_type": "code",
   "execution_count": 302,
   "metadata": {
    "collapsed": false
   },
   "outputs": [],
   "source": [
    "rfmTable = data.groupby(['Member Id', 'Year'], as_index=False).agg({'Summary Month Key': lambda x: len(x), # Frequency\n",
    "                                        'PT Purchase In Month': lambda x: x.sum(), # Frequency of PT Purchase\n",
    "                                        'PL Purchase In Month': lambda x: x.sum(), # Frequency of PL Purchase\n",
    "                                        'Checkin MTD Count': lambda x: x.sum(),    # Frequency of Check-in\n",
    "                                        'PT Purchase MTD Amt': lambda x: x.sum(),  # Monetary Value of PT\n",
    "                                        'PL Purchase MTD Amt': lambda x: x.sum(),  # Monetary Value of PL\n",
    "                                        'Monthly Equivalent': lambda x: x.mean(),  # Monetary Value of Monthly Mbrship Fee\n",
    "                                        'Member Tenure Days': lambda x: x.max(),\n",
    "                                        'current_mbr': lambda x: x.max()} )\n",
    "\n",
    "rfmTable.rename(columns={'Summary Month Key': '# of months',\n",
    "                         'PT Purchase In Month': 'freq_PT',\n",
    "                         'PL Purchase In Month': 'freq_PL',\n",
    "                         'Checkin MTD Count': 'freq_CI',\n",
    "                         'PT Purchase MTD Amt': 'value_PT', \n",
    "                         'PL Purchase MTD Amt': 'value_PL',\n",
    "                         'Monthly Equivalent': 'value_monthfee',\n",
    "                         'Member Tenure Days': 'tenure',\n",
    "                         'current_mbr': 'current_mbr'}, inplace=True)"
   ]
  },
  {
   "cell_type": "code",
   "execution_count": 303,
   "metadata": {
    "collapsed": false
   },
   "outputs": [
    {
     "data": {
      "text/html": [
       "<div>\n",
       "<table border=\"1\" class=\"dataframe\">\n",
       "  <thead>\n",
       "    <tr style=\"text-align: right;\">\n",
       "      <th></th>\n",
       "      <th>Member Id</th>\n",
       "      <th>Year</th>\n",
       "      <th>freq_PL</th>\n",
       "      <th>current_mbr</th>\n",
       "      <th># of months</th>\n",
       "      <th>freq_CI</th>\n",
       "      <th>value_PT</th>\n",
       "      <th>tenure</th>\n",
       "      <th>freq_PT</th>\n",
       "      <th>value_PL</th>\n",
       "      <th>value_monthfee</th>\n",
       "    </tr>\n",
       "  </thead>\n",
       "  <tbody>\n",
       "    <tr>\n",
       "      <th>0</th>\n",
       "      <td>1000006587</td>\n",
       "      <td>2013</td>\n",
       "      <td>0</td>\n",
       "      <td>0</td>\n",
       "      <td>7</td>\n",
       "      <td>47</td>\n",
       "      <td>0.0</td>\n",
       "      <td>4626.0</td>\n",
       "      <td>0</td>\n",
       "      <td>0</td>\n",
       "      <td>120.000000</td>\n",
       "    </tr>\n",
       "    <tr>\n",
       "      <th>1</th>\n",
       "      <td>1000006587</td>\n",
       "      <td>2014</td>\n",
       "      <td>0</td>\n",
       "      <td>0</td>\n",
       "      <td>12</td>\n",
       "      <td>76</td>\n",
       "      <td>0.0</td>\n",
       "      <td>4991.0</td>\n",
       "      <td>1</td>\n",
       "      <td>0</td>\n",
       "      <td>125.333333</td>\n",
       "    </tr>\n",
       "    <tr>\n",
       "      <th>2</th>\n",
       "      <td>1000006587</td>\n",
       "      <td>2015</td>\n",
       "      <td>0</td>\n",
       "      <td>0</td>\n",
       "      <td>7</td>\n",
       "      <td>42</td>\n",
       "      <td>0.0</td>\n",
       "      <td>5203.0</td>\n",
       "      <td>0</td>\n",
       "      <td>0</td>\n",
       "      <td>128.000000</td>\n",
       "    </tr>\n",
       "    <tr>\n",
       "      <th>3</th>\n",
       "      <td>1000006588</td>\n",
       "      <td>2013</td>\n",
       "      <td>0</td>\n",
       "      <td>0</td>\n",
       "      <td>6</td>\n",
       "      <td>100</td>\n",
       "      <td>0.0</td>\n",
       "      <td>4626.0</td>\n",
       "      <td>0</td>\n",
       "      <td>0</td>\n",
       "      <td>120.000000</td>\n",
       "    </tr>\n",
       "    <tr>\n",
       "      <th>4</th>\n",
       "      <td>1000006588</td>\n",
       "      <td>2014</td>\n",
       "      <td>0</td>\n",
       "      <td>0</td>\n",
       "      <td>12</td>\n",
       "      <td>172</td>\n",
       "      <td>0.0</td>\n",
       "      <td>4991.0</td>\n",
       "      <td>0</td>\n",
       "      <td>0</td>\n",
       "      <td>125.333333</td>\n",
       "    </tr>\n",
       "    <tr>\n",
       "      <th>5</th>\n",
       "      <td>1000006588</td>\n",
       "      <td>2015</td>\n",
       "      <td>0</td>\n",
       "      <td>0</td>\n",
       "      <td>9</td>\n",
       "      <td>115</td>\n",
       "      <td>0.0</td>\n",
       "      <td>5325.0</td>\n",
       "      <td>0</td>\n",
       "      <td>0</td>\n",
       "      <td>128.666667</td>\n",
       "    </tr>\n",
       "    <tr>\n",
       "      <th>6</th>\n",
       "      <td>1000006857</td>\n",
       "      <td>2016</td>\n",
       "      <td>0</td>\n",
       "      <td>1</td>\n",
       "      <td>1</td>\n",
       "      <td>1</td>\n",
       "      <td>0.0</td>\n",
       "      <td>18.0</td>\n",
       "      <td>0</td>\n",
       "      <td>0</td>\n",
       "      <td>138.000000</td>\n",
       "    </tr>\n",
       "    <tr>\n",
       "      <th>7</th>\n",
       "      <td>1000007492</td>\n",
       "      <td>2013</td>\n",
       "      <td>0</td>\n",
       "      <td>0</td>\n",
       "      <td>7</td>\n",
       "      <td>31</td>\n",
       "      <td>120.0</td>\n",
       "      <td>2985.0</td>\n",
       "      <td>1</td>\n",
       "      <td>0</td>\n",
       "      <td>160.000000</td>\n",
       "    </tr>\n",
       "    <tr>\n",
       "      <th>8</th>\n",
       "      <td>1000007492</td>\n",
       "      <td>2014</td>\n",
       "      <td>0</td>\n",
       "      <td>0</td>\n",
       "      <td>6</td>\n",
       "      <td>25</td>\n",
       "      <td>0.0</td>\n",
       "      <td>3166.0</td>\n",
       "      <td>0</td>\n",
       "      <td>0</td>\n",
       "      <td>165.000000</td>\n",
       "    </tr>\n",
       "    <tr>\n",
       "      <th>9</th>\n",
       "      <td>1000008196</td>\n",
       "      <td>2013</td>\n",
       "      <td>0</td>\n",
       "      <td>0</td>\n",
       "      <td>7</td>\n",
       "      <td>70</td>\n",
       "      <td>0.0</td>\n",
       "      <td>2288.0</td>\n",
       "      <td>0</td>\n",
       "      <td>0</td>\n",
       "      <td>134.285714</td>\n",
       "    </tr>\n",
       "  </tbody>\n",
       "</table>\n",
       "</div>"
      ],
      "text/plain": [
       "    Member Id  Year  freq_PL current_mbr  # of months  freq_CI  value_PT  \\\n",
       "0  1000006587  2013        0           0            7       47       0.0   \n",
       "1  1000006587  2014        0           0           12       76       0.0   \n",
       "2  1000006587  2015        0           0            7       42       0.0   \n",
       "3  1000006588  2013        0           0            6      100       0.0   \n",
       "4  1000006588  2014        0           0           12      172       0.0   \n",
       "5  1000006588  2015        0           0            9      115       0.0   \n",
       "6  1000006857  2016        0           1            1        1       0.0   \n",
       "7  1000007492  2013        0           0            7       31     120.0   \n",
       "8  1000007492  2014        0           0            6       25       0.0   \n",
       "9  1000008196  2013        0           0            7       70       0.0   \n",
       "\n",
       "   tenure  freq_PT  value_PL  value_monthfee  \n",
       "0  4626.0        0         0      120.000000  \n",
       "1  4991.0        1         0      125.333333  \n",
       "2  5203.0        0         0      128.000000  \n",
       "3  4626.0        0         0      120.000000  \n",
       "4  4991.0        0         0      125.333333  \n",
       "5  5325.0        0         0      128.666667  \n",
       "6    18.0        0         0      138.000000  \n",
       "7  2985.0        1         0      160.000000  \n",
       "8  3166.0        0         0      165.000000  \n",
       "9  2288.0        0         0      134.285714  "
      ]
     },
     "execution_count": 303,
     "metadata": {},
     "output_type": "execute_result"
    }
   ],
   "source": [
    "rfmTable.head(10)"
   ]
  },
  {
   "cell_type": "code",
   "execution_count": 304,
   "metadata": {
    "collapsed": false
   },
   "outputs": [],
   "source": [
    "rfmTable2 = rfmTable.groupby('Member Id').agg({'# of months': lambda x: x.mean(),      # Avg length of mbership, in months (per yr)\n",
    "                                        'Year': lambda x:len(x),\n",
    "                                        'freq_PT': lambda x: x.mean(), # Frequency of PT Purchase\n",
    "                                        'freq_PL': lambda x: x.mean(), # Frequency of PL Purchase\n",
    "                                        'freq_CI': lambda x: x.mean(),    # Frequency of Check-in\n",
    "                                        'value_PT': lambda x: x.mean(),  # Monetary Value of PT\n",
    "                                        'value_PL': lambda x: x.mean(),  # Monetary Value of PL\n",
    "                                        'value_monthfee': lambda x: x.mean(),  # Monetary Value of Monthly Mbrship Fee\n",
    "                                        'tenure': lambda x: x.max(),\n",
    "                                        'current_mbr': lambda x: x.max()} )\n"
   ]
  },
  {
   "cell_type": "code",
   "execution_count": 305,
   "metadata": {
    "collapsed": false
   },
   "outputs": [
    {
     "data": {
      "text/html": [
       "<div>\n",
       "<table border=\"1\" class=\"dataframe\">\n",
       "  <thead>\n",
       "    <tr style=\"text-align: right;\">\n",
       "      <th></th>\n",
       "      <th>value_monthfee</th>\n",
       "      <th>value_PT</th>\n",
       "      <th># of months</th>\n",
       "      <th>freq_PL</th>\n",
       "      <th>Year</th>\n",
       "      <th>current_mbr</th>\n",
       "      <th>freq_CI</th>\n",
       "      <th>tenure</th>\n",
       "      <th>value_PL</th>\n",
       "      <th>freq_PT</th>\n",
       "    </tr>\n",
       "    <tr>\n",
       "      <th>Member Id</th>\n",
       "      <th></th>\n",
       "      <th></th>\n",
       "      <th></th>\n",
       "      <th></th>\n",
       "      <th></th>\n",
       "      <th></th>\n",
       "      <th></th>\n",
       "      <th></th>\n",
       "      <th></th>\n",
       "      <th></th>\n",
       "    </tr>\n",
       "  </thead>\n",
       "  <tbody>\n",
       "    <tr>\n",
       "      <th>1000006587</th>\n",
       "      <td>124.444444</td>\n",
       "      <td>0.0</td>\n",
       "      <td>8.666667</td>\n",
       "      <td>0.0</td>\n",
       "      <td>3</td>\n",
       "      <td>0</td>\n",
       "      <td>55.0</td>\n",
       "      <td>5203.0</td>\n",
       "      <td>0.0</td>\n",
       "      <td>0.333333</td>\n",
       "    </tr>\n",
       "    <tr>\n",
       "      <th>1000006588</th>\n",
       "      <td>124.666667</td>\n",
       "      <td>0.0</td>\n",
       "      <td>9.000000</td>\n",
       "      <td>0.0</td>\n",
       "      <td>3</td>\n",
       "      <td>0</td>\n",
       "      <td>129.0</td>\n",
       "      <td>5325.0</td>\n",
       "      <td>0.0</td>\n",
       "      <td>0.000000</td>\n",
       "    </tr>\n",
       "    <tr>\n",
       "      <th>1000006857</th>\n",
       "      <td>138.000000</td>\n",
       "      <td>0.0</td>\n",
       "      <td>1.000000</td>\n",
       "      <td>0.0</td>\n",
       "      <td>1</td>\n",
       "      <td>1</td>\n",
       "      <td>1.0</td>\n",
       "      <td>18.0</td>\n",
       "      <td>0.0</td>\n",
       "      <td>0.000000</td>\n",
       "    </tr>\n",
       "    <tr>\n",
       "      <th>1000007492</th>\n",
       "      <td>162.500000</td>\n",
       "      <td>60.0</td>\n",
       "      <td>6.500000</td>\n",
       "      <td>0.0</td>\n",
       "      <td>2</td>\n",
       "      <td>0</td>\n",
       "      <td>28.0</td>\n",
       "      <td>3166.0</td>\n",
       "      <td>0.0</td>\n",
       "      <td>0.500000</td>\n",
       "    </tr>\n",
       "    <tr>\n",
       "      <th>1000008196</th>\n",
       "      <td>155.321429</td>\n",
       "      <td>0.0</td>\n",
       "      <td>10.500000</td>\n",
       "      <td>0.0</td>\n",
       "      <td>4</td>\n",
       "      <td>1</td>\n",
       "      <td>106.0</td>\n",
       "      <td>3384.0</td>\n",
       "      <td>0.0</td>\n",
       "      <td>0.000000</td>\n",
       "    </tr>\n",
       "  </tbody>\n",
       "</table>\n",
       "</div>"
      ],
      "text/plain": [
       "            value_monthfee  value_PT  # of months  freq_PL  Year current_mbr  \\\n",
       "Member Id                                                                      \n",
       "1000006587      124.444444       0.0     8.666667      0.0     3           0   \n",
       "1000006588      124.666667       0.0     9.000000      0.0     3           0   \n",
       "1000006857      138.000000       0.0     1.000000      0.0     1           1   \n",
       "1000007492      162.500000      60.0     6.500000      0.0     2           0   \n",
       "1000008196      155.321429       0.0    10.500000      0.0     4           1   \n",
       "\n",
       "            freq_CI  tenure  value_PL   freq_PT  \n",
       "Member Id                                        \n",
       "1000006587     55.0  5203.0       0.0  0.333333  \n",
       "1000006588    129.0  5325.0       0.0  0.000000  \n",
       "1000006857      1.0    18.0       0.0  0.000000  \n",
       "1000007492     28.0  3166.0       0.0  0.500000  \n",
       "1000008196    106.0  3384.0       0.0  0.000000  "
      ]
     },
     "execution_count": 305,
     "metadata": {},
     "output_type": "execute_result"
    }
   ],
   "source": [
    "rfmTable2.head()"
   ]
  },
  {
   "cell_type": "markdown",
   "metadata": {},
   "source": [
    "## Predict Tenure for Current Active Members"
   ]
  },
  {
   "cell_type": "markdown",
   "metadata": {},
   "source": [
    "### Random Forest Regressor"
   ]
  },
  {
   "cell_type": "code",
   "execution_count": 311,
   "metadata": {
    "collapsed": true
   },
   "outputs": [],
   "source": [
    "from sklearn.ensemble import RandomForestRegressor"
   ]
  },
  {
   "cell_type": "code",
   "execution_count": 375,
   "metadata": {
    "collapsed": true
   },
   "outputs": [],
   "source": [
    "model = RandomForestRegressor(n_estimators = 30)"
   ]
  },
  {
   "cell_type": "code",
   "execution_count": 360,
   "metadata": {
    "collapsed": false,
    "scrolled": true
   },
   "outputs": [],
   "source": [
    "X_train = rfmTable2[rfmTable2['current_mbr']=='0'][['value_monthfee', 'value_PT', 'freq_PL', 'freq_CI', 'value_PL', 'freq_PT']]\n",
    "y_train = rfmTable2[rfmTable2['current_mbr']=='0']['tenure']\n",
    "\n",
    "X_test = rfmTable2[rfmTable2['current_mbr']=='1'][['value_monthfee', 'value_PT', 'freq_PL', 'freq_CI', 'value_PL', 'freq_PT']]\n",
    "y_test = rfmTable2[rfmTable2['current_mbr']=='1']['tenure']"
   ]
  },
  {
   "cell_type": "code",
   "execution_count": 361,
   "metadata": {
    "collapsed": false
   },
   "outputs": [
    {
     "data": {
      "text/plain": [
       "Member Id\n",
       "1000006857      18.0\n",
       "1000008196    3384.0\n",
       "1000008729    6027.0\n",
       "1000010678    5693.0\n",
       "1000013105    5855.0\n",
       "Name: tenure, dtype: float64"
      ]
     },
     "execution_count": 361,
     "metadata": {},
     "output_type": "execute_result"
    }
   ],
   "source": [
    "y_test.head()"
   ]
  },
  {
   "cell_type": "code",
   "execution_count": 376,
   "metadata": {
    "collapsed": false
   },
   "outputs": [
    {
     "data": {
      "text/plain": [
       "RandomForestRegressor(bootstrap=True, criterion='mse', max_depth=None,\n",
       "           max_features='auto', max_leaf_nodes=None,\n",
       "           min_impurity_split=1e-07, min_samples_leaf=1,\n",
       "           min_samples_split=2, min_weight_fraction_leaf=0.0,\n",
       "           n_estimators=30, n_jobs=1, oob_score=False, random_state=None,\n",
       "           verbose=0, warm_start=False)"
      ]
     },
     "execution_count": 376,
     "metadata": {},
     "output_type": "execute_result"
    }
   ],
   "source": [
    "## rfmTable2['current_mbr']==0\n",
    "model.fit(X_train, y_train)"
   ]
  },
  {
   "cell_type": "code",
   "execution_count": 367,
   "metadata": {
    "collapsed": false
   },
   "outputs": [
    {
     "name": "stdout",
     "output_type": "stream",
     "text": [
      "[   15.45238095  1444.          1142.51428571 ...,    16.05959184\n",
      "   706.21380952    77.45714286]\n"
     ]
    }
   ],
   "source": [
    "print model.predict(X_test)"
   ]
  },
  {
   "cell_type": "code",
   "execution_count": 382,
   "metadata": {
    "collapsed": false
   },
   "outputs": [
    {
     "data": {
      "text/html": [
       "<div>\n",
       "<table border=\"1\" class=\"dataframe\">\n",
       "  <thead>\n",
       "    <tr style=\"text-align: right;\">\n",
       "      <th></th>\n",
       "      <th>actual</th>\n",
       "      <th>predictions</th>\n",
       "    </tr>\n",
       "    <tr>\n",
       "      <th>Member Id</th>\n",
       "      <th></th>\n",
       "      <th></th>\n",
       "    </tr>\n",
       "  </thead>\n",
       "  <tbody>\n",
       "    <tr>\n",
       "      <th>1000006857</th>\n",
       "      <td>18.0</td>\n",
       "      <td>15.257778</td>\n",
       "    </tr>\n",
       "    <tr>\n",
       "      <th>1000008196</th>\n",
       "      <td>3384.0</td>\n",
       "      <td>1235.700000</td>\n",
       "    </tr>\n",
       "    <tr>\n",
       "      <th>1000008729</th>\n",
       "      <td>6027.0</td>\n",
       "      <td>1170.533333</td>\n",
       "    </tr>\n",
       "    <tr>\n",
       "      <th>1000010678</th>\n",
       "      <td>5693.0</td>\n",
       "      <td>627.500000</td>\n",
       "    </tr>\n",
       "    <tr>\n",
       "      <th>1000013105</th>\n",
       "      <td>5855.0</td>\n",
       "      <td>1084.433333</td>\n",
       "    </tr>\n",
       "    <tr>\n",
       "      <th>1000013618</th>\n",
       "      <td>5631.0</td>\n",
       "      <td>1087.900000</td>\n",
       "    </tr>\n",
       "    <tr>\n",
       "      <th>1000013699</th>\n",
       "      <td>5631.0</td>\n",
       "      <td>1032.500000</td>\n",
       "    </tr>\n",
       "    <tr>\n",
       "      <th>1000013789</th>\n",
       "      <td>1890.0</td>\n",
       "      <td>710.966667</td>\n",
       "    </tr>\n",
       "    <tr>\n",
       "      <th>1000014108</th>\n",
       "      <td>5710.0</td>\n",
       "      <td>1274.933333</td>\n",
       "    </tr>\n",
       "    <tr>\n",
       "      <th>1000014124</th>\n",
       "      <td>2533.0</td>\n",
       "      <td>556.733333</td>\n",
       "    </tr>\n",
       "    <tr>\n",
       "      <th>1000014496</th>\n",
       "      <td>5844.0</td>\n",
       "      <td>810.400000</td>\n",
       "    </tr>\n",
       "    <tr>\n",
       "      <th>1000015345</th>\n",
       "      <td>2162.0</td>\n",
       "      <td>1119.733333</td>\n",
       "    </tr>\n",
       "    <tr>\n",
       "      <th>1000015632</th>\n",
       "      <td>158.0</td>\n",
       "      <td>92.114037</td>\n",
       "    </tr>\n",
       "    <tr>\n",
       "      <th>1000015913</th>\n",
       "      <td>432.0</td>\n",
       "      <td>636.533333</td>\n",
       "    </tr>\n",
       "    <tr>\n",
       "      <th>1000017389</th>\n",
       "      <td>620.0</td>\n",
       "      <td>344.405000</td>\n",
       "    </tr>\n",
       "    <tr>\n",
       "      <th>1000018120</th>\n",
       "      <td>2192.0</td>\n",
       "      <td>768.266667</td>\n",
       "    </tr>\n",
       "    <tr>\n",
       "      <th>1000022444</th>\n",
       "      <td>5601.0</td>\n",
       "      <td>1191.200000</td>\n",
       "    </tr>\n",
       "    <tr>\n",
       "      <th>1000027798</th>\n",
       "      <td>5827.0</td>\n",
       "      <td>844.733333</td>\n",
       "    </tr>\n",
       "    <tr>\n",
       "      <th>1000030646</th>\n",
       "      <td>1899.0</td>\n",
       "      <td>541.366667</td>\n",
       "    </tr>\n",
       "    <tr>\n",
       "      <th>1000034313</th>\n",
       "      <td>9223.0</td>\n",
       "      <td>1155.933333</td>\n",
       "    </tr>\n",
       "  </tbody>\n",
       "</table>\n",
       "</div>"
      ],
      "text/plain": [
       "            actual  predictions\n",
       "Member Id                      \n",
       "1000006857    18.0    15.257778\n",
       "1000008196  3384.0  1235.700000\n",
       "1000008729  6027.0  1170.533333\n",
       "1000010678  5693.0   627.500000\n",
       "1000013105  5855.0  1084.433333\n",
       "1000013618  5631.0  1087.900000\n",
       "1000013699  5631.0  1032.500000\n",
       "1000013789  1890.0   710.966667\n",
       "1000014108  5710.0  1274.933333\n",
       "1000014124  2533.0   556.733333\n",
       "1000014496  5844.0   810.400000\n",
       "1000015345  2162.0  1119.733333\n",
       "1000015632   158.0    92.114037\n",
       "1000015913   432.0   636.533333\n",
       "1000017389   620.0   344.405000\n",
       "1000018120  2192.0   768.266667\n",
       "1000022444  5601.0  1191.200000\n",
       "1000027798  5827.0   844.733333\n",
       "1000030646  1899.0   541.366667\n",
       "1000034313  9223.0  1155.933333"
      ]
     },
     "execution_count": 382,
     "metadata": {},
     "output_type": "execute_result"
    }
   ],
   "source": [
    "model.fit(X_train, y_train)\n",
    "pd.DataFrame(data={'predictions': model.predict(X_test), 'actual': y_test}).head(20)\n",
    "#pd.DataFrame(model.predict(X_test), y_test, columns=['predictions', 'actual'])"
   ]
  },
  {
   "cell_type": "code",
   "execution_count": 383,
   "metadata": {
    "collapsed": false
   },
   "outputs": [
    {
     "data": {
      "text/html": [
       "<div>\n",
       "<table border=\"1\" class=\"dataframe\">\n",
       "  <thead>\n",
       "    <tr style=\"text-align: right;\">\n",
       "      <th></th>\n",
       "      <th>actual</th>\n",
       "      <th>predictions</th>\n",
       "    </tr>\n",
       "    <tr>\n",
       "      <th>Member Id</th>\n",
       "      <th></th>\n",
       "      <th></th>\n",
       "    </tr>\n",
       "  </thead>\n",
       "  <tbody>\n",
       "    <tr>\n",
       "      <th>1000006587</th>\n",
       "      <td>5203.0</td>\n",
       "      <td>3889.000000</td>\n",
       "    </tr>\n",
       "    <tr>\n",
       "      <th>1000006588</th>\n",
       "      <td>5325.0</td>\n",
       "      <td>4484.800000</td>\n",
       "    </tr>\n",
       "    <tr>\n",
       "      <th>1000007492</th>\n",
       "      <td>3166.0</td>\n",
       "      <td>3022.033333</td>\n",
       "    </tr>\n",
       "    <tr>\n",
       "      <th>1000008330</th>\n",
       "      <td>1539.0</td>\n",
       "      <td>1376.283333</td>\n",
       "    </tr>\n",
       "    <tr>\n",
       "      <th>1000010147</th>\n",
       "      <td>5265.0</td>\n",
       "      <td>4234.833333</td>\n",
       "    </tr>\n",
       "    <tr>\n",
       "      <th>1000010439</th>\n",
       "      <td>3336.0</td>\n",
       "      <td>2322.920000</td>\n",
       "    </tr>\n",
       "    <tr>\n",
       "      <th>1000011767</th>\n",
       "      <td>1423.0</td>\n",
       "      <td>1617.540556</td>\n",
       "    </tr>\n",
       "    <tr>\n",
       "      <th>1000012218</th>\n",
       "      <td>5046.0</td>\n",
       "      <td>4297.166667</td>\n",
       "    </tr>\n",
       "    <tr>\n",
       "      <th>1000012296</th>\n",
       "      <td>644.0</td>\n",
       "      <td>440.729524</td>\n",
       "    </tr>\n",
       "    <tr>\n",
       "      <th>1000012940</th>\n",
       "      <td>665.0</td>\n",
       "      <td>800.000000</td>\n",
       "    </tr>\n",
       "    <tr>\n",
       "      <th>1000013144</th>\n",
       "      <td>790.0</td>\n",
       "      <td>1036.466667</td>\n",
       "    </tr>\n",
       "    <tr>\n",
       "      <th>1000013330</th>\n",
       "      <td>5691.0</td>\n",
       "      <td>3852.233333</td>\n",
       "    </tr>\n",
       "    <tr>\n",
       "      <th>1000013530</th>\n",
       "      <td>4823.0</td>\n",
       "      <td>4213.966667</td>\n",
       "    </tr>\n",
       "    <tr>\n",
       "      <th>1000013791</th>\n",
       "      <td>612.0</td>\n",
       "      <td>616.000000</td>\n",
       "    </tr>\n",
       "    <tr>\n",
       "      <th>1000014125</th>\n",
       "      <td>4868.0</td>\n",
       "      <td>943.096605</td>\n",
       "    </tr>\n",
       "    <tr>\n",
       "      <th>1000015169</th>\n",
       "      <td>956.0</td>\n",
       "      <td>1223.366667</td>\n",
       "    </tr>\n",
       "    <tr>\n",
       "      <th>1000015968</th>\n",
       "      <td>646.0</td>\n",
       "      <td>679.333333</td>\n",
       "    </tr>\n",
       "    <tr>\n",
       "      <th>1000016158</th>\n",
       "      <td>973.0</td>\n",
       "      <td>925.098826</td>\n",
       "    </tr>\n",
       "    <tr>\n",
       "      <th>1000019358</th>\n",
       "      <td>1880.0</td>\n",
       "      <td>1416.733333</td>\n",
       "    </tr>\n",
       "    <tr>\n",
       "      <th>1000019405</th>\n",
       "      <td>5609.0</td>\n",
       "      <td>4143.066667</td>\n",
       "    </tr>\n",
       "  </tbody>\n",
       "</table>\n",
       "</div>"
      ],
      "text/plain": [
       "            actual  predictions\n",
       "Member Id                      \n",
       "1000006587  5203.0  3889.000000\n",
       "1000006588  5325.0  4484.800000\n",
       "1000007492  3166.0  3022.033333\n",
       "1000008330  1539.0  1376.283333\n",
       "1000010147  5265.0  4234.833333\n",
       "1000010439  3336.0  2322.920000\n",
       "1000011767  1423.0  1617.540556\n",
       "1000012218  5046.0  4297.166667\n",
       "1000012296   644.0   440.729524\n",
       "1000012940   665.0   800.000000\n",
       "1000013144   790.0  1036.466667\n",
       "1000013330  5691.0  3852.233333\n",
       "1000013530  4823.0  4213.966667\n",
       "1000013791   612.0   616.000000\n",
       "1000014125  4868.0   943.096605\n",
       "1000015169   956.0  1223.366667\n",
       "1000015968   646.0   679.333333\n",
       "1000016158   973.0   925.098826\n",
       "1000019358  1880.0  1416.733333\n",
       "1000019405  5609.0  4143.066667"
      ]
     },
     "execution_count": 383,
     "metadata": {},
     "output_type": "execute_result"
    }
   ],
   "source": [
    "model.fit(X_train, y_train)\n",
    "pd.DataFrame(data={'predictions': model.predict(X_train), 'actual': y_train}).head(20)"
   ]
  },
  {
   "cell_type": "code",
   "execution_count": 378,
   "metadata": {
    "collapsed": false
   },
   "outputs": [
    {
     "data": {
      "text/plain": [
       "419.39875843486135"
      ]
     },
     "execution_count": 378,
     "metadata": {},
     "output_type": "execute_result"
    }
   ],
   "source": [
    "from sklearn.model_selection import KFold, cross_val_score\n",
    "cv = KFold(n_splits=5, shuffle=True)\n",
    "-np.mean(cross_val_score(model, X_train, y_train, scoring='neg_mean_absolute_error',cv=cv))"
   ]
  },
  {
   "cell_type": "markdown",
   "metadata": {},
   "source": [
    "The mean absolute error=420 means that within the training data, the model predicts with a margin of error of approx 21 days for tenure. "
   ]
  },
  {
   "cell_type": "markdown",
   "metadata": {},
   "source": [
    "### Cross Validation for choosing optimal number of Trees"
   ]
  },
  {
   "cell_type": "code",
   "execution_count": 341,
   "metadata": {
    "collapsed": false
   },
   "outputs": [
    {
     "name": "stdout",
     "output_type": "stream",
     "text": [
      "n trees: 1, MSE [-484.31602429 -524.20941088 -486.17057457 -506.18225449 -511.68806867], Average MSE -502.513266578\n",
      "n trees: 11, MSE [-422.27531138 -447.4512409  -437.88009009 -393.05383707 -423.81382202], Average MSE -424.894860292\n",
      "n trees: 21, MSE [-438.14307557 -411.35657979 -413.68505966 -413.26382182 -422.87178435], Average MSE -419.864064238\n",
      "n trees: 31, MSE [-414.24866568 -411.7355525  -411.81635911 -428.72745063 -416.58713121], Average MSE -416.623031825\n",
      "n trees: 41, MSE [-389.52749671 -436.52809026 -387.93456865 -408.15485865 -446.83909022], Average MSE -413.796820896\n",
      "n trees: 51, MSE [-405.07561282 -412.18009473 -441.38144694 -430.88082793 -411.85109979], Average MSE -420.273816444\n",
      "n trees: 61, MSE [-424.13896174 -442.89883236 -401.8971721  -392.45512775 -439.80270954], Average MSE -420.238560698\n",
      "n trees: 71, MSE [-435.83165881 -402.61044417 -421.56240774 -409.04626329 -389.156525  ], Average MSE -411.641459801\n",
      "n trees: 81, MSE [-420.1117015  -426.19258851 -427.36284894 -402.00848184 -405.8389371 ], Average MSE -416.302911577\n",
      "n trees: 91, MSE [-403.06782373 -408.74310491 -427.18384804 -418.45981629 -424.84711281], Average MSE -416.460341155\n"
     ]
    }
   ],
   "source": [
    "for n_trees in range(1, 100, 10):\n",
    "    model = RandomForestRegressor(n_estimators = n_trees)\n",
    "    cv = KFold(n_splits=5, shuffle=True)\n",
    "    scores = cross_val_score(model, X_train, y_train, scoring='neg_mean_absolute_error', cv=cv)\n",
    "    print('n trees: {}, MSE {}, Average MSE {}'.format(n_trees, scores, scores.mean()))"
   ]
  },
  {
   "cell_type": "code",
   "execution_count": 374,
   "metadata": {
    "collapsed": false
   },
   "outputs": [
    {
     "data": {
      "text/plain": [
       "<matplotlib.text.Text at 0x136901f10>"
      ]
     },
     "execution_count": 374,
     "metadata": {},
     "output_type": "execute_result"
    },
    {
     "data": {
      "image/png": "[encoded data removed]",
      "text/plain": [
       "<matplotlib.figure.Figure at 0x1356fdf10>"
      ]
     },
     "metadata": {},
     "output_type": "display_data"
    }
   ],
   "source": [
    "import matplotlib.pyplot as plt\n",
    "%matplotlib inline\n",
    "\n",
    "a = []\n",
    "b = []\n",
    "for n in range(1,100,10):\n",
    "    model = RandomForestRegressor(n_estimators = n)\n",
    "    cv = KFold(n_splits=5, shuffle=True)\n",
    "    model.fit(X_train, y_train)\n",
    "    a.append(n)\n",
    "    b.append(cross_val_score(model, X_train, y_train, scoring='neg_mean_absolute_error', cv=cv).mean())\n",
    "plt.scatter(a, b)\n",
    "plt.plot(a,b)\n",
    "plt.xlabel('# of Trees')\n",
    "plt.ylabel('Negative MSE')"
   ]
  },
  {
   "cell_type": "markdown",
   "metadata": {},
   "source": [
    "### Create data feed for Clustering Analysis"
   ]
  },
  {
   "cell_type": "code",
   "execution_count": 252,
   "metadata": {
    "collapsed": true
   },
   "outputs": [],
   "source": [
    "from sklearn.preprocessing import StandardScaler\n",
    "from sklearn.cluster import KMeans"
   ]
  },
  {
   "cell_type": "code",
   "execution_count": 396,
   "metadata": {
    "collapsed": false,
    "scrolled": true
   },
   "outputs": [
    {
     "name": "stdout",
     "output_type": "stream",
     "text": [
      "<class 'pandas.core.frame.DataFrame'>\n",
      "Index: 7843 entries, 1000006587 to 1010431364\n",
      "Data columns (total 9 columns):\n",
      "value_monthfee    7843 non-null float64\n",
      "value_PT          7843 non-null float64\n",
      "# of months       7843 non-null float64\n",
      "freq_PL           7843 non-null float64\n",
      "Year              7843 non-null int64\n",
      "freq_CI           7843 non-null float64\n",
      "tenure            7843 non-null float64\n",
      "value_PL          7843 non-null float64\n",
      "freq_PT           7843 non-null float64\n",
      "dtypes: float64(8), int64(1)\n",
      "memory usage: 612.7+ KB\n"
     ]
    }
   ],
   "source": [
    "rfmTable2.info()"
   ]
  },
  {
   "cell_type": "markdown",
   "metadata": {},
   "source": [
    "## Apply k-means"
   ]
  },
  {
   "cell_type": "markdown",
   "metadata": {},
   "source": [
    "*NOTE: k-means clustering works best with numerical features, esp when normally distributed"
   ]
  },
  {
   "cell_type": "markdown",
   "metadata": {},
   "source": [
    "#### Remember that all features must be scaled before we feed to k-means\n",
    "\n",
    "#### Parameters:\n",
    "\n",
    "- by default: centers the mean at 0\n",
    "- by default: scales the variance to 1\n",
    "- by default: keeps a copy of X"
   ]
  },
  {
   "cell_type": "code",
   "execution_count": 394,
   "metadata": {
    "collapsed": false
   },
   "outputs": [
    {
     "ename": "ValueError",
     "evalue": "labels ['current_mbr'] not contained in axis",
     "output_type": "error",
     "traceback": [
      "\u001b[0;31m---------------------------------------------------------------------------\u001b[0m",
      "\u001b[0;31mValueError\u001b[0m                                Traceback (most recent call last)",
      "\u001b[0;32m<ipython-input-394-01721470afc6>\u001b[0m in \u001b[0;36m<module>\u001b[0;34m()\u001b[0m\n\u001b[0;32m----> 1\u001b[0;31m \u001b[0mdf\u001b[0m\u001b[0;34m=\u001b[0m\u001b[0mrfmTable2\u001b[0m\u001b[0;34m.\u001b[0m\u001b[0mdrop\u001b[0m\u001b[0;34m(\u001b[0m\u001b[0;34m'current_mbr'\u001b[0m\u001b[0;34m,\u001b[0m \u001b[0maxis\u001b[0m\u001b[0;34m=\u001b[0m\u001b[0;36m1\u001b[0m\u001b[0;34m)\u001b[0m\u001b[0;34m\u001b[0m\u001b[0m\n\u001b[0m",
      "\u001b[0;32m/Users/jiwonseo/anaconda/lib/python2.7/site-packages/pandas/core/generic.pyc\u001b[0m in \u001b[0;36mdrop\u001b[0;34m(self, labels, axis, level, inplace, errors)\u001b[0m\n\u001b[1;32m   1875\u001b[0m                 \u001b[0mnew_axis\u001b[0m \u001b[0;34m=\u001b[0m \u001b[0maxis\u001b[0m\u001b[0;34m.\u001b[0m\u001b[0mdrop\u001b[0m\u001b[0;34m(\u001b[0m\u001b[0mlabels\u001b[0m\u001b[0;34m,\u001b[0m \u001b[0mlevel\u001b[0m\u001b[0;34m=\u001b[0m\u001b[0mlevel\u001b[0m\u001b[0;34m,\u001b[0m \u001b[0merrors\u001b[0m\u001b[0;34m=\u001b[0m\u001b[0merrors\u001b[0m\u001b[0;34m)\u001b[0m\u001b[0;34m\u001b[0m\u001b[0m\n\u001b[1;32m   1876\u001b[0m             \u001b[0;32melse\u001b[0m\u001b[0;34m:\u001b[0m\u001b[0;34m\u001b[0m\u001b[0m\n\u001b[0;32m-> 1877\u001b[0;31m                 \u001b[0mnew_axis\u001b[0m \u001b[0;34m=\u001b[0m \u001b[0maxis\u001b[0m\u001b[0;34m.\u001b[0m\u001b[0mdrop\u001b[0m\u001b[0;34m(\u001b[0m\u001b[0mlabels\u001b[0m\u001b[0;34m,\u001b[0m \u001b[0merrors\u001b[0m\u001b[0;34m=\u001b[0m\u001b[0merrors\u001b[0m\u001b[0;34m)\u001b[0m\u001b[0;34m\u001b[0m\u001b[0m\n\u001b[0m\u001b[1;32m   1878\u001b[0m             \u001b[0mdropped\u001b[0m \u001b[0;34m=\u001b[0m \u001b[0mself\u001b[0m\u001b[0;34m.\u001b[0m\u001b[0mreindex\u001b[0m\u001b[0;34m(\u001b[0m\u001b[0;34m**\u001b[0m\u001b[0;34m{\u001b[0m\u001b[0maxis_name\u001b[0m\u001b[0;34m:\u001b[0m \u001b[0mnew_axis\u001b[0m\u001b[0;34m}\u001b[0m\u001b[0;34m)\u001b[0m\u001b[0;34m\u001b[0m\u001b[0m\n\u001b[1;32m   1879\u001b[0m             \u001b[0;32mtry\u001b[0m\u001b[0;34m:\u001b[0m\u001b[0;34m\u001b[0m\u001b[0m\n",
      "\u001b[0;32m/Users/jiwonseo/anaconda/lib/python2.7/site-packages/pandas/indexes/base.pyc\u001b[0m in \u001b[0;36mdrop\u001b[0;34m(self, labels, errors)\u001b[0m\n\u001b[1;32m   3049\u001b[0m             \u001b[0;32mif\u001b[0m \u001b[0merrors\u001b[0m \u001b[0;34m!=\u001b[0m \u001b[0;34m'ignore'\u001b[0m\u001b[0;34m:\u001b[0m\u001b[0;34m\u001b[0m\u001b[0m\n\u001b[1;32m   3050\u001b[0m                 raise ValueError('labels %s not contained in axis' %\n\u001b[0;32m-> 3051\u001b[0;31m                                  labels[mask])\n\u001b[0m\u001b[1;32m   3052\u001b[0m             \u001b[0mindexer\u001b[0m \u001b[0;34m=\u001b[0m \u001b[0mindexer\u001b[0m\u001b[0;34m[\u001b[0m\u001b[0;34m~\u001b[0m\u001b[0mmask\u001b[0m\u001b[0;34m]\u001b[0m\u001b[0;34m\u001b[0m\u001b[0m\n\u001b[1;32m   3053\u001b[0m         \u001b[0;32mreturn\u001b[0m \u001b[0mself\u001b[0m\u001b[0;34m.\u001b[0m\u001b[0mdelete\u001b[0m\u001b[0;34m(\u001b[0m\u001b[0mindexer\u001b[0m\u001b[0;34m)\u001b[0m\u001b[0;34m\u001b[0m\u001b[0m\n",
      "\u001b[0;31mValueError\u001b[0m: labels ['current_mbr'] not contained in axis"
     ]
    }
   ],
   "source": [
    "rfmTable2.drop('current_mbr', axis=1)"
   ]
  },
  {
   "cell_type": "code",
   "execution_count": 397,
   "metadata": {
    "collapsed": true
   },
   "outputs": [],
   "source": [
    "scale = StandardScaler()\n",
    "X_scale = scale.fit_transform(rfmTable2)"
   ]
  },
  {
   "cell_type": "markdown",
   "metadata": {},
   "source": [
    "[K-Means Documentation](http://scikit-learn.org/stable/modules/generated/sklearn.cluster.KMeans.html)\n",
    "\n",
    "#### Parameters:\n",
    "\n",
    "- n_clusters: number of cluster centers we want\n",
    "- max_iter: number of times we want k-means to keep refinding cluster centers before it stops (higher means the algo will take longer)\n",
    "- n_init: number of separate times k-means will be run in an attempt to find best convergence (higher means will take longer)\n",
    "- init: how/where to start cluster centers"
   ]
  },
  {
   "cell_type": "code",
   "execution_count": 398,
   "metadata": {
    "collapsed": false
   },
   "outputs": [
    {
     "name": "stdout",
     "output_type": "stream",
     "text": [
      "CPU times: user 694 ms, sys: 11.4 ms, total: 705 ms\n",
      "Wall time: 372 ms\n"
     ]
    }
   ],
   "source": [
    "%%time\n",
    "km = KMeans(n_clusters=4, n_init=20)\n",
    "cluster_labels = km.fit_predict(X_scale)"
   ]
  },
  {
   "cell_type": "markdown",
   "metadata": {},
   "source": [
    "- Inertia= sum of distances of samples to their closest cluster center (this helps us gauge how good our clusters are by penalizing points that are far away) - smaller is better"
   ]
  },
  {
   "cell_type": "code",
   "execution_count": 399,
   "metadata": {
    "collapsed": false,
    "scrolled": true
   },
   "outputs": [
    {
     "data": {
      "text/plain": [
       "<matplotlib.text.Text at 0x135360110>"
      ]
     },
     "execution_count": 399,
     "metadata": {},
     "output_type": "execute_result"
    },
    {
     "data": {
      "image/png": "[encoded data removed]",
      "text/plain": [
       "<matplotlib.figure.Figure at 0x13758dd90>"
      ]
     },
     "metadata": {},
     "output_type": "display_data"
    }
   ],
   "source": [
    "import matplotlib.pyplot as plt\n",
    "%matplotlib inline\n",
    "\n",
    "x = []\n",
    "y = []\n",
    "for n in range(2,11):\n",
    "    km2 = KMeans(n_clusters=n, random_state=7)\n",
    "    km2.fit(X_scale)\n",
    "    x.append(n)\n",
    "    y.append(km2.inertia_)\n",
    "plt.scatter(x, y)\n",
    "plt.plot(x,y)\n",
    "plt.xlabel('# of Clusters')\n",
    "plt.ylabel('Inertia')"
   ]
  },
  {
   "cell_type": "markdown",
   "metadata": {},
   "source": [
    "The silhouette_score gives the average value of inertia for all the samples.\n",
    " This gives a perspective into the density and separation of the formed clusters\n",
    "\n",
    " The best value is 1 and the worst value is -1. Values near 0 indicate overlapping clusters. \n",
    " Negative values generally indicate that a sample has been assigned to the wrong cluster, as a different cluster is more similar."
   ]
  },
  {
   "cell_type": "code",
   "execution_count": 400,
   "metadata": {
    "collapsed": false
   },
   "outputs": [
    {
     "name": "stdout",
     "output_type": "stream",
     "text": [
      "0.314263692659\n"
     ]
    },
    {
     "data": {
      "text/plain": [
       "<matplotlib.text.Text at 0x1356758d0>"
      ]
     },
     "execution_count": 400,
     "metadata": {},
     "output_type": "execute_result"
    },
    {
     "data": {
      "image/png": "[encoded data removed]",
      "text/plain": [
       "<matplotlib.figure.Figure at 0x13769df90>"
      ]
     },
     "metadata": {},
     "output_type": "display_data"
    }
   ],
   "source": [
    "from sklearn.metrics import silhouette_score\n",
    "print silhouette_score(X_scale, cluster_labels)\n",
    "\n",
    "x = []\n",
    "y = []\n",
    "for n in range(2,11):\n",
    "    km2 = KMeans(n_clusters=n, random_state=7)\n",
    "    centers = km2.fit_predict(X_scale)\n",
    "    x.append(n)\n",
    "    y.append(silhouette_score(X_scale, centers))\n",
    "plt.scatter(x, y)\n",
    "plt.plot(x, y)\n",
    "plt.xlabel('# of Clusters')\n",
    "plt.ylabel('Silhouette Score')"
   ]
  },
  {
   "cell_type": "markdown",
   "metadata": {},
   "source": [
    "## Get the cluster centers in the original scale\n",
    "\n",
    "### Looking at the elbow methods for both inertia and silhouette, k = 4 looks like a good choice of k"
   ]
  },
  {
   "cell_type": "code",
   "execution_count": 402,
   "metadata": {
    "collapsed": false
   },
   "outputs": [
    {
     "data": {
      "text/html": [
       "<div>\n",
       "<table border=\"1\" class=\"dataframe\">\n",
       "  <thead>\n",
       "    <tr style=\"text-align: right;\">\n",
       "      <th></th>\n",
       "      <th>0</th>\n",
       "      <th>1</th>\n",
       "      <th>2</th>\n",
       "      <th>3</th>\n",
       "    </tr>\n",
       "  </thead>\n",
       "  <tbody>\n",
       "    <tr>\n",
       "      <th>value_monthfee</th>\n",
       "      <td>156.228832</td>\n",
       "      <td>145.376691</td>\n",
       "      <td>158.530822</td>\n",
       "      <td>152.214752</td>\n",
       "    </tr>\n",
       "    <tr>\n",
       "      <th>value_PT</th>\n",
       "      <td>123.807378</td>\n",
       "      <td>66.079627</td>\n",
       "      <td>1079.493750</td>\n",
       "      <td>4428.116398</td>\n",
       "    </tr>\n",
       "    <tr>\n",
       "      <th># of months</th>\n",
       "      <td>9.197648</td>\n",
       "      <td>4.735480</td>\n",
       "      <td>8.483333</td>\n",
       "      <td>8.859677</td>\n",
       "    </tr>\n",
       "    <tr>\n",
       "      <th>freq_PL</th>\n",
       "      <td>0.011791</td>\n",
       "      <td>0.005715</td>\n",
       "      <td>2.947917</td>\n",
       "      <td>0.043280</td>\n",
       "    </tr>\n",
       "    <tr>\n",
       "      <th>Year</th>\n",
       "      <td>3.133003</td>\n",
       "      <td>1.460994</td>\n",
       "      <td>2.500000</td>\n",
       "      <td>2.545161</td>\n",
       "    </tr>\n",
       "    <tr>\n",
       "      <th>freq_CI</th>\n",
       "      <td>69.053561</td>\n",
       "      <td>23.496499</td>\n",
       "      <td>66.389583</td>\n",
       "      <td>76.841129</td>\n",
       "    </tr>\n",
       "    <tr>\n",
       "      <th>tenure</th>\n",
       "      <td>1577.304209</td>\n",
       "      <td>357.208744</td>\n",
       "      <td>1243.175000</td>\n",
       "      <td>1246.419355</td>\n",
       "    </tr>\n",
       "    <tr>\n",
       "      <th>value_PL</th>\n",
       "      <td>7.006927</td>\n",
       "      <td>3.137627</td>\n",
       "      <td>2421.200000</td>\n",
       "      <td>24.347581</td>\n",
       "    </tr>\n",
       "    <tr>\n",
       "      <th>freq_PT</th>\n",
       "      <td>0.124573</td>\n",
       "      <td>0.073046</td>\n",
       "      <td>0.760417</td>\n",
       "      <td>2.981720</td>\n",
       "    </tr>\n",
       "  </tbody>\n",
       "</table>\n",
       "</div>"
      ],
      "text/plain": [
       "                          0           1            2            3\n",
       "value_monthfee   156.228832  145.376691   158.530822   152.214752\n",
       "value_PT         123.807378   66.079627  1079.493750  4428.116398\n",
       "# of months        9.197648    4.735480     8.483333     8.859677\n",
       "freq_PL            0.011791    0.005715     2.947917     0.043280\n",
       "Year               3.133003    1.460994     2.500000     2.545161\n",
       "freq_CI           69.053561   23.496499    66.389583    76.841129\n",
       "tenure          1577.304209  357.208744  1243.175000  1246.419355\n",
       "value_PL           7.006927    3.137627  2421.200000    24.347581\n",
       "freq_PT            0.124573    0.073046     0.760417     2.981720"
      ]
     },
     "execution_count": 402,
     "metadata": {},
     "output_type": "execute_result"
    }
   ],
   "source": [
    "km = KMeans(n_clusters=4, n_init=20)\n",
    "km.fit(X_scale)\n",
    "columns = {str(x): scale.inverse_transform(km.cluster_centers_[x]) for x in range(0,len(km.cluster_centers_))}\n",
    "pd.DataFrame(columns, index=rfmTable2.columns)"
   ]
  },
  {
   "cell_type": "markdown",
   "metadata": {},
   "source": [
    "- Cluster 1: Non-loyal (tenure), Disengaged (CI), and non-PT & PL users\n",
    "- Cluster 0: Most loyal & engaged members (but non-PT & non-PL)\n",
    "- Cluster 3: Loyal, Highly engaged (CI), and Heavy PT users\n",
    "- Cluster 2: Loyal, PL users"
   ]
  },
  {
   "cell_type": "code",
   "execution_count": 403,
   "metadata": {
    "collapsed": false
   },
   "outputs": [],
   "source": [
    "labels = km.predict(X_scale)"
   ]
  },
  {
   "cell_type": "code",
   "execution_count": 404,
   "metadata": {
    "collapsed": false
   },
   "outputs": [
    {
     "data": {
      "text/plain": [
       "1    4666\n",
       "0    2827\n",
       "3     310\n",
       "2      40\n",
       "Name: 0, dtype: int64"
      ]
     },
     "execution_count": 404,
     "metadata": {},
     "output_type": "execute_result"
    }
   ],
   "source": [
    "labels=pd.DataFrame(labels)\n",
    "labels[0].value_counts()"
   ]
  },
  {
   "cell_type": "code",
   "execution_count": null,
   "metadata": {
    "collapsed": true
   },
   "outputs": [],
   "source": []
  }
 ],
 "metadata": {
  "anaconda-cloud": {},
  "kernelspec": {
   "display_name": "Python [conda root]",
   "language": "python",
   "name": "conda-root-py"
  },
  "language_info": {
   "codemirror_mode": {
    "name": "ipython",
    "version": 2
   },
   "file_extension": ".py",
   "mimetype": "text/x-python",
   "name": "python",
   "nbconvert_exporter": "python",
   "pygments_lexer": "ipython2",
   "version": "2.7.12"
  }
 },
 "nbformat": 4,
 "nbformat_minor": 1
}
